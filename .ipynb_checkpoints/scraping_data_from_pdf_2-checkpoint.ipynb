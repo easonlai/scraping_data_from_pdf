{
 "cells": [
  {
   "cell_type": "code",
   "execution_count": 2,
   "id": "a0561365",
   "metadata": {},
   "outputs": [],
   "source": [
    "# Import necessary libraries.\n",
    "import requests\n",
    "import camelot\n",
    "import pandas as pd\n",
    "from datetime import date, timedelta"
   ]
  },
  {
   "cell_type": "code",
   "execution_count": 3,
   "id": "a6f25c4c",
   "metadata": {},
   "outputs": [
    {
     "name": "stdout",
     "output_type": "stream",
     "text": [
      "20220205\n"
     ]
    }
   ],
   "source": [
    "# Define the variable for the date string.\n",
    "yesterday = date.today() - timedelta(days=1)\n",
    "yesterday_a = yesterday.strftime('%Y%m%d')\n",
    "print(yesterday_a)"
   ]
  },
  {
   "cell_type": "code",
   "execution_count": 5,
   "id": "b4921338",
   "metadata": {},
   "outputs": [
    {
     "data": {
      "text/plain": [
       "546199"
      ]
     },
     "execution_count": 5,
     "metadata": {},
     "output_type": "execute_result"
    }
   ],
   "source": [
    "# Download source latest PDF file \"Details of Compulsory Testing Notice (G.N. (E.) 192 of 2022)\"\n",
    "# from www.chp.gov.hk. https://www.chp.gov.hk/en/features/105294.html\n",
    "\n",
    "url_path = 'https://www.chp.gov.hk/files/pdf/ctn_' + yesterday_a + '.pdf'\n",
    "url = url_path\n",
    "r = requests.get(url, allow_redirects=True)\n",
    "\n",
    "file_path = 'data/ctn_' + yesterday_a + '.pdf'\n",
    "open(file_path, 'wb').write(r.content)"
   ]
  },
  {
   "cell_type": "code",
   "execution_count": 6,
   "id": "02d36794",
   "metadata": {},
   "outputs": [],
   "source": [
    "# Define the source PDF file path.\n",
    "source_file = file_path"
   ]
  },
  {
   "cell_type": "code",
   "execution_count": 7,
   "id": "dec6d8fe",
   "metadata": {},
   "outputs": [],
   "source": [
    "# Extract all tables from all pages in a PDF file.\n",
    "data_tables = camelot.read_pdf(source_file, pages='all')"
   ]
  },
  {
   "cell_type": "code",
   "execution_count": 8,
   "id": "133cdd3b",
   "metadata": {},
   "outputs": [
    {
     "name": "stdout",
     "output_type": "stream",
     "text": [
      "Total Number of Tables Being Extracted: 17\n"
     ]
    }
   ],
   "source": [
    "# Print the number or tables are bthat eing extracted.\n",
    "print(\"Total Number of Tables Being Extracted:\", data_tables.n)"
   ]
  },
  {
   "cell_type": "code",
   "execution_count": 9,
   "id": "d360a252",
   "metadata": {},
   "outputs": [],
   "source": [
    "# Parse all extract tables into a single list.\n",
    "data_list = []\n",
    "\n",
    "for t in range(data_tables.n):\n",
    "    data = data_tables[t].df\n",
    "    data_list.append(data)"
   ]
  },
  {
   "cell_type": "code",
   "execution_count": 10,
   "id": "3c4cd88a",
   "metadata": {},
   "outputs": [],
   "source": [
    "# Convert list into Pandas dataframe.\n",
    "data_final_1 = pd.concat(data_list, ignore_index=False, sort=False)"
   ]
  },
  {
   "cell_type": "code",
   "execution_count": 12,
   "id": "53486742",
   "metadata": {},
   "outputs": [],
   "source": [
    "# Change the dataframe column headers.\n",
    "data_final_1.columns = ['Number', 'Specified_Place', 'Specified_Datetimes_Periods', 'Required_Testing_Dates']"
   ]
  },
  {
   "cell_type": "code",
   "execution_count": 13,
   "id": "f9405309",
   "metadata": {},
   "outputs": [
    {
     "data": {
      "text/html": [
       "<div>\n",
       "<style scoped>\n",
       "    .dataframe tbody tr th:only-of-type {\n",
       "        vertical-align: middle;\n",
       "    }\n",
       "\n",
       "    .dataframe tbody tr th {\n",
       "        vertical-align: top;\n",
       "    }\n",
       "\n",
       "    .dataframe thead th {\n",
       "        text-align: right;\n",
       "    }\n",
       "</style>\n",
       "<table border=\"1\" class=\"dataframe\">\n",
       "  <thead>\n",
       "    <tr style=\"text-align: right;\">\n",
       "      <th></th>\n",
       "      <th>Number</th>\n",
       "      <th>Specified_Place</th>\n",
       "      <th>Specified_Datetimes_Periods</th>\n",
       "      <th>Required_Testing_Dates</th>\n",
       "    </tr>\n",
       "  </thead>\n",
       "  <tbody>\n",
       "    <tr>\n",
       "      <th>0</th>\n",
       "      <td></td>\n",
       "      <td>指明地點 \\nSpecified place</td>\n",
       "      <td>指明期間及時段 \\n(視情況而定任何一個 \\n期間及時段) \\n[年年年年-月月-日日] \\...</td>\n",
       "      <td>須進行檢測日期 \\n[年年年年-月月-日日] \\nRequired testing date...</td>\n",
       "    </tr>\n",
       "    <tr>\n",
       "      <th>1</th>\n",
       "      <td>1.</td>\n",
       "      <td>大圍新翠邨新芳樓 \\nSun Fong House, Sun Chui \\nEstate, ...</td>\n",
       "      <td>(\\n2022-01-23 ~ 2022-02-05 \\n曾身處指明場所超過兩\\n小時) \\...</td>\n",
       "      <td>(1) 2022-02-05 ~ 2022-02-07 \\n(2) 2022-02-08 ~...</td>\n",
       "    </tr>\n",
       "    <tr>\n",
       "      <th>2</th>\n",
       "      <td>2.</td>\n",
       "      <td>沙田瀝源邨貴和樓 \\nKwai Wo House, Lek Yuen \\nEstate, S...</td>\n",
       "      <td>(\\n2022-01-23 ~ 2022-02-05 \\n曾身處指明場所超過兩\\n小時) \\...</td>\n",
       "      <td></td>\n",
       "    </tr>\n",
       "    <tr>\n",
       "      <th>0</th>\n",
       "      <td></td>\n",
       "      <td>指明地點 \\nSpecified place</td>\n",
       "      <td>指明期間及時段 \\n(視情況而定任何一個 \\n期間及時段) \\n[年年年年-月月-日日] \\...</td>\n",
       "      <td>須進行檢測日期 \\n[年年年年-月月-日日] \\nRequired testing date...</td>\n",
       "    </tr>\n",
       "    <tr>\n",
       "      <th>1</th>\n",
       "      <td>3.</td>\n",
       "      <td>馬鞍山富安花園 6 座 \\nBlock  6,  Chevalier  Garden, \\n...</td>\n",
       "      <td>(\\n2022-01-23 ~ 2022-02-05 \\n曾身處指明場所超過兩\\n小時) \\...</td>\n",
       "      <td>(1) 2022-02-05 ~ 2022-02-07 \\n(2) 2022-02-08 ~...</td>\n",
       "    </tr>\n",
       "    <tr>\n",
       "      <th>...</th>\n",
       "      <td>...</td>\n",
       "      <td>...</td>\n",
       "      <td>...</td>\n",
       "      <td>...</td>\n",
       "    </tr>\n",
       "    <tr>\n",
       "      <th>1</th>\n",
       "      <td>59.</td>\n",
       "      <td>油麻地駿發花園 2 座 \\nBlock \\n2, \\nProsperous \\nGarden...</td>\n",
       "      <td>(\\n2022-01-23 ~ 2022-02-05 \\n曾身處指明場所超過兩\\n小時) \\...</td>\n",
       "      <td>(1) 2022-02-05 ~ 2022-02-07 \\n(2) 2022-02-08 ~...</td>\n",
       "    </tr>\n",
       "    <tr>\n",
       "      <th>0</th>\n",
       "      <td></td>\n",
       "      <td>指明地點 \\nSpecified place</td>\n",
       "      <td>指明期間及時段 \\n(視情況而定任何一個 \\n期間及時段) \\n[年年年年-月月-日日] \\...</td>\n",
       "      <td>須進行檢測日期 \\n[年年年年-月月-日日] \\nRequired testing date...</td>\n",
       "    </tr>\n",
       "    <tr>\n",
       "      <th>1</th>\n",
       "      <td>1.</td>\n",
       "      <td>黃大仙東頭(二)村裕東樓 \\nYue Tung House, Tung Tau \\n(II)...</td>\n",
       "      <td>2022-01-23 ~ 2022-02-05 \\n(曾身處指明場所超過兩\\n小時) \\n(...</td>\n",
       "      <td>2022-02-05 ~ 2022-02-07</td>\n",
       "    </tr>\n",
       "    <tr>\n",
       "      <th>2</th>\n",
       "      <td>2.</td>\n",
       "      <td>黃大仙東頭(二)村貴東樓 \\nKwai  Tung  House,  Tung \\nTau ...</td>\n",
       "      <td>2022-01-23 ~ 2022-02-05 \\n(曾身處指明場所超過兩\\n小時) \\n(...</td>\n",
       "      <td>2022-02-05 ~ 2022-02-07</td>\n",
       "    </tr>\n",
       "    <tr>\n",
       "      <th>3</th>\n",
       "      <td>3.</td>\n",
       "      <td>屯門大興花園第一期第 1, \\n2  座 \\nBlocks 1 and 2, Phase 1...</td>\n",
       "      <td>2022-01-23 ~ 2022-02-05 \\n(曾身處指明場所超過兩\\n小時) \\n(...</td>\n",
       "      <td>2022-02-05 ~ 2022-02-07</td>\n",
       "    </tr>\n",
       "  </tbody>\n",
       "</table>\n",
       "<p>79 rows × 4 columns</p>\n",
       "</div>"
      ],
      "text/plain": [
       "   Number                                    Specified_Place  \\\n",
       "0                                     指明地點 \\nSpecified place   \n",
       "1      1.  大圍新翠邨新芳樓 \\nSun Fong House, Sun Chui \\nEstate, ...   \n",
       "2      2.  沙田瀝源邨貴和樓 \\nKwai Wo House, Lek Yuen \\nEstate, S...   \n",
       "0                                     指明地點 \\nSpecified place   \n",
       "1      3.  馬鞍山富安花園 6 座 \\nBlock  6,  Chevalier  Garden, \\n...   \n",
       "..    ...                                                ...   \n",
       "1     59.  油麻地駿發花園 2 座 \\nBlock \\n2, \\nProsperous \\nGarden...   \n",
       "0                                     指明地點 \\nSpecified place   \n",
       "1      1.  黃大仙東頭(二)村裕東樓 \\nYue Tung House, Tung Tau \\n(II)...   \n",
       "2      2.  黃大仙東頭(二)村貴東樓 \\nKwai  Tung  House,  Tung \\nTau ...   \n",
       "3      3.  屯門大興花園第一期第 1, \\n2  座 \\nBlocks 1 and 2, Phase 1...   \n",
       "\n",
       "                          Specified_Datetimes_Periods  \\\n",
       "0   指明期間及時段 \\n(視情況而定任何一個 \\n期間及時段) \\n[年年年年-月月-日日] \\...   \n",
       "1   (\\n2022-01-23 ~ 2022-02-05 \\n曾身處指明場所超過兩\\n小時) \\...   \n",
       "2   (\\n2022-01-23 ~ 2022-02-05 \\n曾身處指明場所超過兩\\n小時) \\...   \n",
       "0   指明期間及時段 \\n(視情況而定任何一個 \\n期間及時段) \\n[年年年年-月月-日日] \\...   \n",
       "1   (\\n2022-01-23 ~ 2022-02-05 \\n曾身處指明場所超過兩\\n小時) \\...   \n",
       "..                                                ...   \n",
       "1   (\\n2022-01-23 ~ 2022-02-05 \\n曾身處指明場所超過兩\\n小時) \\...   \n",
       "0   指明期間及時段 \\n(視情況而定任何一個 \\n期間及時段) \\n[年年年年-月月-日日] \\...   \n",
       "1   2022-01-23 ~ 2022-02-05 \\n(曾身處指明場所超過兩\\n小時) \\n(...   \n",
       "2   2022-01-23 ~ 2022-02-05 \\n(曾身處指明場所超過兩\\n小時) \\n(...   \n",
       "3   2022-01-23 ~ 2022-02-05 \\n(曾身處指明場所超過兩\\n小時) \\n(...   \n",
       "\n",
       "                               Required_Testing_Dates  \n",
       "0   須進行檢測日期 \\n[年年年年-月月-日日] \\nRequired testing date...  \n",
       "1   (1) 2022-02-05 ~ 2022-02-07 \\n(2) 2022-02-08 ~...  \n",
       "2                                                      \n",
       "0   須進行檢測日期 \\n[年年年年-月月-日日] \\nRequired testing date...  \n",
       "1   (1) 2022-02-05 ~ 2022-02-07 \\n(2) 2022-02-08 ~...  \n",
       "..                                                ...  \n",
       "1   (1) 2022-02-05 ~ 2022-02-07 \\n(2) 2022-02-08 ~...  \n",
       "0   須進行檢測日期 \\n[年年年年-月月-日日] \\nRequired testing date...  \n",
       "1                             2022-02-05 ~ 2022-02-07  \n",
       "2                             2022-02-05 ~ 2022-02-07  \n",
       "3                             2022-02-05 ~ 2022-02-07  \n",
       "\n",
       "[79 rows x 4 columns]"
      ]
     },
     "execution_count": 13,
     "metadata": {},
     "output_type": "execute_result"
    }
   ],
   "source": [
    "# Display header of dataframe.\n",
    "data_final_1"
   ]
  },
  {
   "cell_type": "code",
   "execution_count": 14,
   "id": "037c6496",
   "metadata": {},
   "outputs": [],
   "source": [
    "# Erase unnecessary rows from the dataframe.\n",
    "data_final_2 = data_final_1[data_final_1.Specified_Place != '指明地點 \\nSpecified place']"
   ]
  },
  {
   "cell_type": "code",
   "execution_count": 15,
   "id": "002f5d71",
   "metadata": {},
   "outputs": [
    {
     "data": {
      "text/html": [
       "<div>\n",
       "<style scoped>\n",
       "    .dataframe tbody tr th:only-of-type {\n",
       "        vertical-align: middle;\n",
       "    }\n",
       "\n",
       "    .dataframe tbody tr th {\n",
       "        vertical-align: top;\n",
       "    }\n",
       "\n",
       "    .dataframe thead th {\n",
       "        text-align: right;\n",
       "    }\n",
       "</style>\n",
       "<table border=\"1\" class=\"dataframe\">\n",
       "  <thead>\n",
       "    <tr style=\"text-align: right;\">\n",
       "      <th></th>\n",
       "      <th>Number</th>\n",
       "      <th>Specified_Place</th>\n",
       "      <th>Specified_Datetimes_Periods</th>\n",
       "      <th>Required_Testing_Dates</th>\n",
       "    </tr>\n",
       "  </thead>\n",
       "  <tbody>\n",
       "    <tr>\n",
       "      <th>1</th>\n",
       "      <td>1.</td>\n",
       "      <td>大圍新翠邨新芳樓 \\nSun Fong House, Sun Chui \\nEstate, ...</td>\n",
       "      <td>(\\n2022-01-23 ~ 2022-02-05 \\n曾身處指明場所超過兩\\n小時) \\...</td>\n",
       "      <td>(1) 2022-02-05 ~ 2022-02-07 \\n(2) 2022-02-08 ~...</td>\n",
       "    </tr>\n",
       "    <tr>\n",
       "      <th>2</th>\n",
       "      <td>2.</td>\n",
       "      <td>沙田瀝源邨貴和樓 \\nKwai Wo House, Lek Yuen \\nEstate, S...</td>\n",
       "      <td>(\\n2022-01-23 ~ 2022-02-05 \\n曾身處指明場所超過兩\\n小時) \\...</td>\n",
       "      <td></td>\n",
       "    </tr>\n",
       "    <tr>\n",
       "      <th>1</th>\n",
       "      <td>3.</td>\n",
       "      <td>馬鞍山富安花園 6 座 \\nBlock  6,  Chevalier  Garden, \\n...</td>\n",
       "      <td>(\\n2022-01-23 ~ 2022-02-05 \\n曾身處指明場所超過兩\\n小時) \\...</td>\n",
       "      <td>(1) 2022-02-05 ~ 2022-02-07 \\n(2) 2022-02-08 ~...</td>\n",
       "    </tr>\n",
       "    <tr>\n",
       "      <th>2</th>\n",
       "      <td>4.</td>\n",
       "      <td>油麻地新填地街  215-225\\n號 \\n215-225 \\nReclamation \\n...</td>\n",
       "      <td>(\\n2022-01-23 ~ 2022-02-05 \\n曾身處指明場所超過兩\\n小時) \\...</td>\n",
       "      <td></td>\n",
       "    </tr>\n",
       "    <tr>\n",
       "      <th>3</th>\n",
       "      <td>5.</td>\n",
       "      <td>北角健康村 1 期康智閣 \\nHong  Chi  Court,  Phase  1, \\n...</td>\n",
       "      <td>(\\n2022-01-23 ~ 2022-02-05 \\n曾身處指明場所超過兩\\n小時) \\...</td>\n",
       "      <td></td>\n",
       "    </tr>\n",
       "    <tr>\n",
       "      <th>...</th>\n",
       "      <td>...</td>\n",
       "      <td>...</td>\n",
       "      <td>...</td>\n",
       "      <td>...</td>\n",
       "    </tr>\n",
       "    <tr>\n",
       "      <th>4</th>\n",
       "      <td>58.</td>\n",
       "      <td>屯門友愛邨愛智樓 \\nOi  Chi  House,  Yau  Oi \\nEstate, ...</td>\n",
       "      <td>(\\n2022-01-23 ~ 2022-02-05 \\n曾身處指明場所超過兩\\n小時) \\...</td>\n",
       "      <td></td>\n",
       "    </tr>\n",
       "    <tr>\n",
       "      <th>1</th>\n",
       "      <td>59.</td>\n",
       "      <td>油麻地駿發花園 2 座 \\nBlock \\n2, \\nProsperous \\nGarden...</td>\n",
       "      <td>(\\n2022-01-23 ~ 2022-02-05 \\n曾身處指明場所超過兩\\n小時) \\...</td>\n",
       "      <td>(1) 2022-02-05 ~ 2022-02-07 \\n(2) 2022-02-08 ~...</td>\n",
       "    </tr>\n",
       "    <tr>\n",
       "      <th>1</th>\n",
       "      <td>1.</td>\n",
       "      <td>黃大仙東頭(二)村裕東樓 \\nYue Tung House, Tung Tau \\n(II)...</td>\n",
       "      <td>2022-01-23 ~ 2022-02-05 \\n(曾身處指明場所超過兩\\n小時) \\n(...</td>\n",
       "      <td>2022-02-05 ~ 2022-02-07</td>\n",
       "    </tr>\n",
       "    <tr>\n",
       "      <th>2</th>\n",
       "      <td>2.</td>\n",
       "      <td>黃大仙東頭(二)村貴東樓 \\nKwai  Tung  House,  Tung \\nTau ...</td>\n",
       "      <td>2022-01-23 ~ 2022-02-05 \\n(曾身處指明場所超過兩\\n小時) \\n(...</td>\n",
       "      <td>2022-02-05 ~ 2022-02-07</td>\n",
       "    </tr>\n",
       "    <tr>\n",
       "      <th>3</th>\n",
       "      <td>3.</td>\n",
       "      <td>屯門大興花園第一期第 1, \\n2  座 \\nBlocks 1 and 2, Phase 1...</td>\n",
       "      <td>2022-01-23 ~ 2022-02-05 \\n(曾身處指明場所超過兩\\n小時) \\n(...</td>\n",
       "      <td>2022-02-05 ~ 2022-02-07</td>\n",
       "    </tr>\n",
       "  </tbody>\n",
       "</table>\n",
       "<p>62 rows × 4 columns</p>\n",
       "</div>"
      ],
      "text/plain": [
       "   Number                                    Specified_Place  \\\n",
       "1      1.  大圍新翠邨新芳樓 \\nSun Fong House, Sun Chui \\nEstate, ...   \n",
       "2      2.  沙田瀝源邨貴和樓 \\nKwai Wo House, Lek Yuen \\nEstate, S...   \n",
       "1      3.  馬鞍山富安花園 6 座 \\nBlock  6,  Chevalier  Garden, \\n...   \n",
       "2      4.  油麻地新填地街  215-225\\n號 \\n215-225 \\nReclamation \\n...   \n",
       "3      5.  北角健康村 1 期康智閣 \\nHong  Chi  Court,  Phase  1, \\n...   \n",
       "..    ...                                                ...   \n",
       "4     58.  屯門友愛邨愛智樓 \\nOi  Chi  House,  Yau  Oi \\nEstate, ...   \n",
       "1     59.  油麻地駿發花園 2 座 \\nBlock \\n2, \\nProsperous \\nGarden...   \n",
       "1      1.  黃大仙東頭(二)村裕東樓 \\nYue Tung House, Tung Tau \\n(II)...   \n",
       "2      2.  黃大仙東頭(二)村貴東樓 \\nKwai  Tung  House,  Tung \\nTau ...   \n",
       "3      3.  屯門大興花園第一期第 1, \\n2  座 \\nBlocks 1 and 2, Phase 1...   \n",
       "\n",
       "                          Specified_Datetimes_Periods  \\\n",
       "1   (\\n2022-01-23 ~ 2022-02-05 \\n曾身處指明場所超過兩\\n小時) \\...   \n",
       "2   (\\n2022-01-23 ~ 2022-02-05 \\n曾身處指明場所超過兩\\n小時) \\...   \n",
       "1   (\\n2022-01-23 ~ 2022-02-05 \\n曾身處指明場所超過兩\\n小時) \\...   \n",
       "2   (\\n2022-01-23 ~ 2022-02-05 \\n曾身處指明場所超過兩\\n小時) \\...   \n",
       "3   (\\n2022-01-23 ~ 2022-02-05 \\n曾身處指明場所超過兩\\n小時) \\...   \n",
       "..                                                ...   \n",
       "4   (\\n2022-01-23 ~ 2022-02-05 \\n曾身處指明場所超過兩\\n小時) \\...   \n",
       "1   (\\n2022-01-23 ~ 2022-02-05 \\n曾身處指明場所超過兩\\n小時) \\...   \n",
       "1   2022-01-23 ~ 2022-02-05 \\n(曾身處指明場所超過兩\\n小時) \\n(...   \n",
       "2   2022-01-23 ~ 2022-02-05 \\n(曾身處指明場所超過兩\\n小時) \\n(...   \n",
       "3   2022-01-23 ~ 2022-02-05 \\n(曾身處指明場所超過兩\\n小時) \\n(...   \n",
       "\n",
       "                               Required_Testing_Dates  \n",
       "1   (1) 2022-02-05 ~ 2022-02-07 \\n(2) 2022-02-08 ~...  \n",
       "2                                                      \n",
       "1   (1) 2022-02-05 ~ 2022-02-07 \\n(2) 2022-02-08 ~...  \n",
       "2                                                      \n",
       "3                                                      \n",
       "..                                                ...  \n",
       "4                                                      \n",
       "1   (1) 2022-02-05 ~ 2022-02-07 \\n(2) 2022-02-08 ~...  \n",
       "1                             2022-02-05 ~ 2022-02-07  \n",
       "2                             2022-02-05 ~ 2022-02-07  \n",
       "3                             2022-02-05 ~ 2022-02-07  \n",
       "\n",
       "[62 rows x 4 columns]"
      ]
     },
     "execution_count": 15,
     "metadata": {},
     "output_type": "execute_result"
    }
   ],
   "source": [
    "# Display header of dataframe.\n",
    "data_final_2"
   ]
  },
  {
   "cell_type": "code",
   "execution_count": 18,
   "id": "feba7ac6",
   "metadata": {},
   "outputs": [
    {
     "name": "stdout",
     "output_type": "stream",
     "text": [
      "2022-02-05\n"
     ]
    }
   ],
   "source": [
    "# Define the variable for the date string.\n",
    "yesterday = date.today() - timedelta(days=1)\n",
    "yesterday_b = yesterday.strftime('%Y-%m-%d')\n",
    "print(yesterday_b)"
   ]
  },
  {
   "cell_type": "code",
   "execution_count": 20,
   "id": "6a256baa",
   "metadata": {},
   "outputs": [],
   "source": [
    "# Filter dataframe by the specific name of district (Tai Po) and date (today).\n",
    "data_final_Tai_Po_Yesterday = data_final_2[(data_final_2['Specified_Place'].str.contains(\"Tai Po\")) & \n",
    "                                        data_final_2['Specified_Datetimes_Periods'].str.contains(yesterday_b)]"
   ]
  },
  {
   "cell_type": "code",
   "execution_count": 21,
   "id": "4b232b17",
   "metadata": {},
   "outputs": [
    {
     "data": {
      "text/html": [
       "<div>\n",
       "<style scoped>\n",
       "    .dataframe tbody tr th:only-of-type {\n",
       "        vertical-align: middle;\n",
       "    }\n",
       "\n",
       "    .dataframe tbody tr th {\n",
       "        vertical-align: top;\n",
       "    }\n",
       "\n",
       "    .dataframe thead th {\n",
       "        text-align: right;\n",
       "    }\n",
       "</style>\n",
       "<table border=\"1\" class=\"dataframe\">\n",
       "  <thead>\n",
       "    <tr style=\"text-align: right;\">\n",
       "      <th></th>\n",
       "      <th>Number</th>\n",
       "      <th>Specified_Place</th>\n",
       "      <th>Specified_Datetimes_Periods</th>\n",
       "      <th>Required_Testing_Dates</th>\n",
       "    </tr>\n",
       "  </thead>\n",
       "  <tbody>\n",
       "    <tr>\n",
       "      <th>1</th>\n",
       "      <td>19.</td>\n",
       "      <td>大埔怡雅苑怡達閣 \\nYee  Dat  House,  Yee  Nga \\nCourt,...</td>\n",
       "      <td>(\\n2022-01-23 ~ 2022-02-05 \\n曾身處指明場所超過兩\\n小時) \\...</td>\n",
       "      <td>(1) 2022-02-05 ~ 2022-02-07 \\n(2) 2022-02-08 ~...</td>\n",
       "    </tr>\n",
       "  </tbody>\n",
       "</table>\n",
       "</div>"
      ],
      "text/plain": [
       "  Number                                    Specified_Place  \\\n",
       "1    19.  大埔怡雅苑怡達閣 \\nYee  Dat  House,  Yee  Nga \\nCourt,...   \n",
       "\n",
       "                         Specified_Datetimes_Periods  \\\n",
       "1  (\\n2022-01-23 ~ 2022-02-05 \\n曾身處指明場所超過兩\\n小時) \\...   \n",
       "\n",
       "                              Required_Testing_Dates  \n",
       "1  (1) 2022-02-05 ~ 2022-02-07 \\n(2) 2022-02-08 ~...  "
      ]
     },
     "execution_count": 21,
     "metadata": {},
     "output_type": "execute_result"
    }
   ],
   "source": [
    "# Display header of dataframe.\n",
    "data_final_Tai_Po_Yesterday"
   ]
  },
  {
   "cell_type": "code",
   "execution_count": 23,
   "id": "8f77b286",
   "metadata": {},
   "outputs": [],
   "source": [
    "# Filter dataframe by the specific name of district (Tsuen Wan) and date (today).\n",
    "data_final_Tsuen_Wan_Yesterday = data_final_2[(data_final_2['Specified_Place'].str.contains(\"Tsuen Wan\")) & \n",
    "                                        data_final_2['Specified_Datetimes_Periods'].str.contains(yesterday_b)]"
   ]
  },
  {
   "cell_type": "code",
   "execution_count": 24,
   "id": "7226e57d",
   "metadata": {},
   "outputs": [
    {
     "data": {
      "text/html": [
       "<div>\n",
       "<style scoped>\n",
       "    .dataframe tbody tr th:only-of-type {\n",
       "        vertical-align: middle;\n",
       "    }\n",
       "\n",
       "    .dataframe tbody tr th {\n",
       "        vertical-align: top;\n",
       "    }\n",
       "\n",
       "    .dataframe thead th {\n",
       "        text-align: right;\n",
       "    }\n",
       "</style>\n",
       "<table border=\"1\" class=\"dataframe\">\n",
       "  <thead>\n",
       "    <tr style=\"text-align: right;\">\n",
       "      <th></th>\n",
       "      <th>Number</th>\n",
       "      <th>Specified_Place</th>\n",
       "      <th>Specified_Datetimes_Periods</th>\n",
       "      <th>Required_Testing_Dates</th>\n",
       "    </tr>\n",
       "  </thead>\n",
       "  <tbody>\n",
       "    <tr>\n",
       "      <th>4</th>\n",
       "      <td>10.</td>\n",
       "      <td>荃灣麗城花園 3 期 7 座 \\nBlock 7, Phase 3, Belvedere \\...</td>\n",
       "      <td>(\\n2022-01-23 ~ 2022-02-05 \\n曾身處指明場所超過兩\\n小時) \\...</td>\n",
       "      <td></td>\n",
       "    </tr>\n",
       "    <tr>\n",
       "      <th>3</th>\n",
       "      <td>45.</td>\n",
       "      <td>荃灣荃威花園 N 座 \\nBlock  N,  Allway  Gardens, \\nTsu...</td>\n",
       "      <td>(\\n2022-01-23 ~ 2022-02-05 \\n曾身處指明場所超過兩\\n小時) \\...</td>\n",
       "      <td></td>\n",
       "    </tr>\n",
       "  </tbody>\n",
       "</table>\n",
       "</div>"
      ],
      "text/plain": [
       "  Number                                    Specified_Place  \\\n",
       "4    10.  荃灣麗城花園 3 期 7 座 \\nBlock 7, Phase 3, Belvedere \\...   \n",
       "3    45.  荃灣荃威花園 N 座 \\nBlock  N,  Allway  Gardens, \\nTsu...   \n",
       "\n",
       "                         Specified_Datetimes_Periods Required_Testing_Dates  \n",
       "4  (\\n2022-01-23 ~ 2022-02-05 \\n曾身處指明場所超過兩\\n小時) \\...                         \n",
       "3  (\\n2022-01-23 ~ 2022-02-05 \\n曾身處指明場所超過兩\\n小時) \\...                         "
      ]
     },
     "execution_count": 24,
     "metadata": {},
     "output_type": "execute_result"
    }
   ],
   "source": [
    "# Display header of dataframe.\n",
    "data_final_Tsuen_Wan_Yesterday"
   ]
  }
 ],
 "metadata": {
  "kernelspec": {
   "display_name": "Python 3 (ipykernel)",
   "language": "python",
   "name": "python3"
  },
  "language_info": {
   "codemirror_mode": {
    "name": "ipython",
    "version": 3
   },
   "file_extension": ".py",
   "mimetype": "text/x-python",
   "name": "python",
   "nbconvert_exporter": "python",
   "pygments_lexer": "ipython3",
   "version": "3.9.7"
  }
 },
 "nbformat": 4,
 "nbformat_minor": 5
}
