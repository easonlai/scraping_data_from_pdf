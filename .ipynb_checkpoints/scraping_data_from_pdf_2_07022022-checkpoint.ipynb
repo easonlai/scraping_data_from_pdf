{
 "cells": [
  {
   "cell_type": "code",
   "execution_count": 1,
   "id": "a0561365",
   "metadata": {},
   "outputs": [],
   "source": [
    "# Import necessary libraries.\n",
    "import requests\n",
    "import camelot\n",
    "import pandas as pd\n",
    "from datetime import date, timedelta"
   ]
  },
  {
   "cell_type": "code",
   "execution_count": 2,
   "id": "a6f25c4c",
   "metadata": {},
   "outputs": [
    {
     "name": "stdout",
     "output_type": "stream",
     "text": [
      "20220206\n"
     ]
    }
   ],
   "source": [
    "# Define the variable for the date string.\n",
    "yesterday = date.today() - timedelta(days=1)\n",
    "yesterday_a = yesterday.strftime('%Y%m%d')\n",
    "print(yesterday_a)"
   ]
  },
  {
   "cell_type": "code",
   "execution_count": 3,
   "id": "b4921338",
   "metadata": {},
   "outputs": [
    {
     "data": {
      "text/plain": [
       "752010"
      ]
     },
     "execution_count": 3,
     "metadata": {},
     "output_type": "execute_result"
    }
   ],
   "source": [
    "# Download source latest PDF file \"Details of Compulsory Testing Notice (G.N. (E.) 192 of 2022)\"\n",
    "# from www.chp.gov.hk. https://www.chp.gov.hk/en/features/105294.html\n",
    "\n",
    "url_path = 'https://www.chp.gov.hk/files/pdf/ctn_' + yesterday_a + '.pdf'\n",
    "url = url_path\n",
    "r = requests.get(url, allow_redirects=True)\n",
    "\n",
    "file_path = 'data/ctn_' + yesterday_a + '.pdf'\n",
    "open(file_path, 'wb').write(r.content)"
   ]
  },
  {
   "cell_type": "code",
   "execution_count": 4,
   "id": "02d36794",
   "metadata": {},
   "outputs": [],
   "source": [
    "# Define the source PDF file path.\n",
    "source_file = file_path"
   ]
  },
  {
   "cell_type": "code",
   "execution_count": 5,
   "id": "dec6d8fe",
   "metadata": {},
   "outputs": [],
   "source": [
    "# Extract all tables from all pages in a PDF file.\n",
    "data_tables = camelot.read_pdf(source_file, pages='all')"
   ]
  },
  {
   "cell_type": "code",
   "execution_count": 6,
   "id": "133cdd3b",
   "metadata": {},
   "outputs": [
    {
     "name": "stdout",
     "output_type": "stream",
     "text": [
      "Total Number of Tables Being Extracted: 17\n"
     ]
    }
   ],
   "source": [
    "# Print the number or tables are bthat eing extracted.\n",
    "print(\"Total Number of Tables Being Extracted:\", data_tables.n)"
   ]
  },
  {
   "cell_type": "code",
   "execution_count": 7,
   "id": "d360a252",
   "metadata": {},
   "outputs": [],
   "source": [
    "# Parse all extract tables into a single list.\n",
    "data_list = []\n",
    "\n",
    "for t in range(data_tables.n):\n",
    "    data = data_tables[t].df\n",
    "    data_list.append(data)"
   ]
  },
  {
   "cell_type": "code",
   "execution_count": 8,
   "id": "3c4cd88a",
   "metadata": {},
   "outputs": [],
   "source": [
    "# Convert list into Pandas dataframe.\n",
    "data_final_1 = pd.concat(data_list, ignore_index=False, sort=False)"
   ]
  },
  {
   "cell_type": "code",
   "execution_count": 9,
   "id": "53486742",
   "metadata": {},
   "outputs": [],
   "source": [
    "# Change the dataframe column headers.\n",
    "data_final_1.columns = ['Number', 'Specified_Place', 'Specified_Datetimes_Periods', 'Required_Testing_Dates']"
   ]
  },
  {
   "cell_type": "code",
   "execution_count": 10,
   "id": "f9405309",
   "metadata": {},
   "outputs": [
    {
     "data": {
      "text/html": [
       "<div>\n",
       "<style scoped>\n",
       "    .dataframe tbody tr th:only-of-type {\n",
       "        vertical-align: middle;\n",
       "    }\n",
       "\n",
       "    .dataframe tbody tr th {\n",
       "        vertical-align: top;\n",
       "    }\n",
       "\n",
       "    .dataframe thead th {\n",
       "        text-align: right;\n",
       "    }\n",
       "</style>\n",
       "<table border=\"1\" class=\"dataframe\">\n",
       "  <thead>\n",
       "    <tr style=\"text-align: right;\">\n",
       "      <th></th>\n",
       "      <th>Number</th>\n",
       "      <th>Specified_Place</th>\n",
       "      <th>Specified_Datetimes_Periods</th>\n",
       "      <th>Required_Testing_Dates</th>\n",
       "    </tr>\n",
       "  </thead>\n",
       "  <tbody>\n",
       "    <tr>\n",
       "      <th>0</th>\n",
       "      <td></td>\n",
       "      <td>指明地點 \\nSpecified place</td>\n",
       "      <td>指明期間及時段 \\n(視情況而定任何一個 \\n期間及時段) \\n[年年年年-月月-日日] \\...</td>\n",
       "      <td>須進行檢測日期 \\n[年年年年-月月-日日] \\nRequired testing date...</td>\n",
       "    </tr>\n",
       "    <tr>\n",
       "      <th>1</th>\n",
       "      <td>1.</td>\n",
       "      <td>大嶼山愉景灣十四區 E 座 \\nBlock E, Area 14, Discovery \\n...</td>\n",
       "      <td>(\\n2022-01-24 ~ 2022-02-06 \\n曾身處指明場所超過兩\\n小時) \\...</td>\n",
       "      <td>(1)  2022-02-06  ~  2022-02-\\n08 \\n(2)  2022-0...</td>\n",
       "    </tr>\n",
       "    <tr>\n",
       "      <th>2</th>\n",
       "      <td>2.</td>\n",
       "      <td>旺角太子道西 59-61 號 \\n59-61  Prince  Edward  Road \\...</td>\n",
       "      <td>(\\n2022-01-24 ~ 2022-02-06 \\n曾身處指明場所超過兩\\n小時) \\...</td>\n",
       "      <td></td>\n",
       "    </tr>\n",
       "    <tr>\n",
       "      <th>0</th>\n",
       "      <td></td>\n",
       "      <td>指明地點 \\nSpecified place</td>\n",
       "      <td>指明期間及時段 \\n(視情況而定任何一個 \\n期間及時段) \\n[年年年年-月月-日日] \\...</td>\n",
       "      <td>須進行檢測日期 \\n[年年年年-月月-日日] \\nRequired testing date...</td>\n",
       "    </tr>\n",
       "    <tr>\n",
       "      <th>1</th>\n",
       "      <td>3.</td>\n",
       "      <td>深水埗欽州街 24-30 號德\\n昌大廈 \\nTak \\nCheong  Apartment...</td>\n",
       "      <td>(\\n2022-01-24 ~ 2022-02-06 \\n曾身處指明場所超過兩\\n小時) \\...</td>\n",
       "      <td>(1)  2022-02-06  ~  2022-02-\\n08 \\n(2)  2022-0...</td>\n",
       "    </tr>\n",
       "    <tr>\n",
       "      <th>...</th>\n",
       "      <td>...</td>\n",
       "      <td>...</td>\n",
       "      <td>...</td>\n",
       "      <td>...</td>\n",
       "    </tr>\n",
       "    <tr>\n",
       "      <th>2</th>\n",
       "      <td>2</td>\n",
       "      <td>黃大仙嘉峰臺第 1 座至第\\n5 座 \\n \\nBlocks 1 to 5, Kingsfo...</td>\n",
       "      <td>2022-01-24 ~ 2022-02-06 \\n(曾身處指明場所超過兩\\n小時) \\n(...</td>\n",
       "      <td>2022-02-06 ~ 2022-02-08</td>\n",
       "    </tr>\n",
       "    <tr>\n",
       "      <th>0</th>\n",
       "      <td></td>\n",
       "      <td>指明地點 \\nSpecified place</td>\n",
       "      <td>指明期間及時段 \\n(視情況而定任何一個 \\n期間及時段) \\n[年年年年-月月-日日] \\...</td>\n",
       "      <td>須進行檢測日期 \\n[年年年年-月月-日日] \\nRequired testing date...</td>\n",
       "    </tr>\n",
       "    <tr>\n",
       "      <th>1</th>\n",
       "      <td>3</td>\n",
       "      <td>屯門大興花園第二期第 10\\n座及第 11 座 \\n \\nBlocks 10 and 11,...</td>\n",
       "      <td>2022-01-24 ~ 2022-02-06 \\n(曾身處指明場所超過兩\\n小時) \\n(...</td>\n",
       "      <td>2022-02-06 ~ 2022-02-08</td>\n",
       "    </tr>\n",
       "    <tr>\n",
       "      <th>2</th>\n",
       "      <td>4</td>\n",
       "      <td>屯門卓爾居第二期第 5 座\\n及第 6 座 \\nBlocks 5 and 6, Phase ...</td>\n",
       "      <td>2022-01-24 ~ 2022-02-06 \\n(曾身處指明場所超過兩\\n小時) \\n(...</td>\n",
       "      <td>2022-02-06 ~ 2022-02-08</td>\n",
       "    </tr>\n",
       "    <tr>\n",
       "      <th>3</th>\n",
       "      <td>5</td>\n",
       "      <td>沙田美田邨美麗樓及美田\\n商場 \\nMei Lai House, Mei Tin \\nEst...</td>\n",
       "      <td>2022-01-24 ~ 2022-02-06 \\n(曾身處指明場所超過兩\\n小時) \\n(...</td>\n",
       "      <td>2022-02-06 ~ 2022-02-08</td>\n",
       "    </tr>\n",
       "  </tbody>\n",
       "</table>\n",
       "<p>78 rows × 4 columns</p>\n",
       "</div>"
      ],
      "text/plain": [
       "   Number                                    Specified_Place  \\\n",
       "0                                     指明地點 \\nSpecified place   \n",
       "1      1.  大嶼山愉景灣十四區 E 座 \\nBlock E, Area 14, Discovery \\n...   \n",
       "2      2.  旺角太子道西 59-61 號 \\n59-61  Prince  Edward  Road \\...   \n",
       "0                                     指明地點 \\nSpecified place   \n",
       "1      3.  深水埗欽州街 24-30 號德\\n昌大廈 \\nTak \\nCheong  Apartment...   \n",
       "..    ...                                                ...   \n",
       "2       2  黃大仙嘉峰臺第 1 座至第\\n5 座 \\n \\nBlocks 1 to 5, Kingsfo...   \n",
       "0                                     指明地點 \\nSpecified place   \n",
       "1       3  屯門大興花園第二期第 10\\n座及第 11 座 \\n \\nBlocks 10 and 11,...   \n",
       "2       4  屯門卓爾居第二期第 5 座\\n及第 6 座 \\nBlocks 5 and 6, Phase ...   \n",
       "3       5  沙田美田邨美麗樓及美田\\n商場 \\nMei Lai House, Mei Tin \\nEst...   \n",
       "\n",
       "                          Specified_Datetimes_Periods  \\\n",
       "0   指明期間及時段 \\n(視情況而定任何一個 \\n期間及時段) \\n[年年年年-月月-日日] \\...   \n",
       "1   (\\n2022-01-24 ~ 2022-02-06 \\n曾身處指明場所超過兩\\n小時) \\...   \n",
       "2   (\\n2022-01-24 ~ 2022-02-06 \\n曾身處指明場所超過兩\\n小時) \\...   \n",
       "0   指明期間及時段 \\n(視情況而定任何一個 \\n期間及時段) \\n[年年年年-月月-日日] \\...   \n",
       "1   (\\n2022-01-24 ~ 2022-02-06 \\n曾身處指明場所超過兩\\n小時) \\...   \n",
       "..                                                ...   \n",
       "2   2022-01-24 ~ 2022-02-06 \\n(曾身處指明場所超過兩\\n小時) \\n(...   \n",
       "0   指明期間及時段 \\n(視情況而定任何一個 \\n期間及時段) \\n[年年年年-月月-日日] \\...   \n",
       "1   2022-01-24 ~ 2022-02-06 \\n(曾身處指明場所超過兩\\n小時) \\n(...   \n",
       "2   2022-01-24 ~ 2022-02-06 \\n(曾身處指明場所超過兩\\n小時) \\n(...   \n",
       "3   2022-01-24 ~ 2022-02-06 \\n(曾身處指明場所超過兩\\n小時) \\n(...   \n",
       "\n",
       "                               Required_Testing_Dates  \n",
       "0   須進行檢測日期 \\n[年年年年-月月-日日] \\nRequired testing date...  \n",
       "1   (1)  2022-02-06  ~  2022-02-\\n08 \\n(2)  2022-0...  \n",
       "2                                                      \n",
       "0   須進行檢測日期 \\n[年年年年-月月-日日] \\nRequired testing date...  \n",
       "1   (1)  2022-02-06  ~  2022-02-\\n08 \\n(2)  2022-0...  \n",
       "..                                                ...  \n",
       "2                             2022-02-06 ~ 2022-02-08  \n",
       "0   須進行檢測日期 \\n[年年年年-月月-日日] \\nRequired testing date...  \n",
       "1                             2022-02-06 ~ 2022-02-08  \n",
       "2                             2022-02-06 ~ 2022-02-08  \n",
       "3                             2022-02-06 ~ 2022-02-08  \n",
       "\n",
       "[78 rows x 4 columns]"
      ]
     },
     "execution_count": 10,
     "metadata": {},
     "output_type": "execute_result"
    }
   ],
   "source": [
    "# Display header of dataframe.\n",
    "data_final_1"
   ]
  },
  {
   "cell_type": "code",
   "execution_count": 11,
   "id": "037c6496",
   "metadata": {},
   "outputs": [],
   "source": [
    "# Erase unnecessary rows from the dataframe.\n",
    "data_final_2 = data_final_1[data_final_1.Specified_Place != '指明地點 \\nSpecified place']"
   ]
  },
  {
   "cell_type": "code",
   "execution_count": 12,
   "id": "002f5d71",
   "metadata": {},
   "outputs": [
    {
     "data": {
      "text/html": [
       "<div>\n",
       "<style scoped>\n",
       "    .dataframe tbody tr th:only-of-type {\n",
       "        vertical-align: middle;\n",
       "    }\n",
       "\n",
       "    .dataframe tbody tr th {\n",
       "        vertical-align: top;\n",
       "    }\n",
       "\n",
       "    .dataframe thead th {\n",
       "        text-align: right;\n",
       "    }\n",
       "</style>\n",
       "<table border=\"1\" class=\"dataframe\">\n",
       "  <thead>\n",
       "    <tr style=\"text-align: right;\">\n",
       "      <th></th>\n",
       "      <th>Number</th>\n",
       "      <th>Specified_Place</th>\n",
       "      <th>Specified_Datetimes_Periods</th>\n",
       "      <th>Required_Testing_Dates</th>\n",
       "    </tr>\n",
       "  </thead>\n",
       "  <tbody>\n",
       "    <tr>\n",
       "      <th>1</th>\n",
       "      <td>1.</td>\n",
       "      <td>大嶼山愉景灣十四區 E 座 \\nBlock E, Area 14, Discovery \\n...</td>\n",
       "      <td>(\\n2022-01-24 ~ 2022-02-06 \\n曾身處指明場所超過兩\\n小時) \\...</td>\n",
       "      <td>(1)  2022-02-06  ~  2022-02-\\n08 \\n(2)  2022-0...</td>\n",
       "    </tr>\n",
       "    <tr>\n",
       "      <th>2</th>\n",
       "      <td>2.</td>\n",
       "      <td>旺角太子道西 59-61 號 \\n59-61  Prince  Edward  Road \\...</td>\n",
       "      <td>(\\n2022-01-24 ~ 2022-02-06 \\n曾身處指明場所超過兩\\n小時) \\...</td>\n",
       "      <td></td>\n",
       "    </tr>\n",
       "    <tr>\n",
       "      <th>1</th>\n",
       "      <td>3.</td>\n",
       "      <td>深水埗欽州街 24-30 號德\\n昌大廈 \\nTak \\nCheong  Apartment...</td>\n",
       "      <td>(\\n2022-01-24 ~ 2022-02-06 \\n曾身處指明場所超過兩\\n小時) \\...</td>\n",
       "      <td>(1)  2022-02-06  ~  2022-02-\\n08 \\n(2)  2022-0...</td>\n",
       "    </tr>\n",
       "    <tr>\n",
       "      <th>2</th>\n",
       "      <td>4.</td>\n",
       "      <td>天水圍嘉湖山莊翠湖居 4\\n座 \\nBlock  4,  Chestwood  Court,...</td>\n",
       "      <td>(\\n2022-01-24 ~ 2022-02-06 \\n曾身處指明場所超過兩\\n小時) \\...</td>\n",
       "      <td></td>\n",
       "    </tr>\n",
       "    <tr>\n",
       "      <th>3</th>\n",
       "      <td>5.</td>\n",
       "      <td>馬鞍山錦豐苑錦萱閣 \\nKam  Huen  House,  Kam \\nFung Cour...</td>\n",
       "      <td>(\\n2022-01-24 ~ 2022-02-06 \\n曾身處指明場所超過兩\\n小時) \\...</td>\n",
       "      <td></td>\n",
       "    </tr>\n",
       "    <tr>\n",
       "      <th>...</th>\n",
       "      <td>...</td>\n",
       "      <td>...</td>\n",
       "      <td>...</td>\n",
       "      <td>...</td>\n",
       "    </tr>\n",
       "    <tr>\n",
       "      <th>1</th>\n",
       "      <td>1</td>\n",
       "      <td>黃大仙宏景花園第 1 座至\\n第 6 座及宏景花園綜合大\\n樓及停車場 \\nTowers 1...</td>\n",
       "      <td>2022-01-24 ~ 2022-02-06 \\n(曾身處指明場所超過兩\\n小時) \\n(...</td>\n",
       "      <td>2022-02-06 ~ 2022-02-08</td>\n",
       "    </tr>\n",
       "    <tr>\n",
       "      <th>2</th>\n",
       "      <td>2</td>\n",
       "      <td>黃大仙嘉峰臺第 1 座至第\\n5 座 \\n \\nBlocks 1 to 5, Kingsfo...</td>\n",
       "      <td>2022-01-24 ~ 2022-02-06 \\n(曾身處指明場所超過兩\\n小時) \\n(...</td>\n",
       "      <td>2022-02-06 ~ 2022-02-08</td>\n",
       "    </tr>\n",
       "    <tr>\n",
       "      <th>1</th>\n",
       "      <td>3</td>\n",
       "      <td>屯門大興花園第二期第 10\\n座及第 11 座 \\n \\nBlocks 10 and 11,...</td>\n",
       "      <td>2022-01-24 ~ 2022-02-06 \\n(曾身處指明場所超過兩\\n小時) \\n(...</td>\n",
       "      <td>2022-02-06 ~ 2022-02-08</td>\n",
       "    </tr>\n",
       "    <tr>\n",
       "      <th>2</th>\n",
       "      <td>4</td>\n",
       "      <td>屯門卓爾居第二期第 5 座\\n及第 6 座 \\nBlocks 5 and 6, Phase ...</td>\n",
       "      <td>2022-01-24 ~ 2022-02-06 \\n(曾身處指明場所超過兩\\n小時) \\n(...</td>\n",
       "      <td>2022-02-06 ~ 2022-02-08</td>\n",
       "    </tr>\n",
       "    <tr>\n",
       "      <th>3</th>\n",
       "      <td>5</td>\n",
       "      <td>沙田美田邨美麗樓及美田\\n商場 \\nMei Lai House, Mei Tin \\nEst...</td>\n",
       "      <td>2022-01-24 ~ 2022-02-06 \\n(曾身處指明場所超過兩\\n小時) \\n(...</td>\n",
       "      <td>2022-02-06 ~ 2022-02-08</td>\n",
       "    </tr>\n",
       "  </tbody>\n",
       "</table>\n",
       "<p>61 rows × 4 columns</p>\n",
       "</div>"
      ],
      "text/plain": [
       "   Number                                    Specified_Place  \\\n",
       "1      1.  大嶼山愉景灣十四區 E 座 \\nBlock E, Area 14, Discovery \\n...   \n",
       "2      2.  旺角太子道西 59-61 號 \\n59-61  Prince  Edward  Road \\...   \n",
       "1      3.  深水埗欽州街 24-30 號德\\n昌大廈 \\nTak \\nCheong  Apartment...   \n",
       "2      4.  天水圍嘉湖山莊翠湖居 4\\n座 \\nBlock  4,  Chestwood  Court,...   \n",
       "3      5.  馬鞍山錦豐苑錦萱閣 \\nKam  Huen  House,  Kam \\nFung Cour...   \n",
       "..    ...                                                ...   \n",
       "1       1  黃大仙宏景花園第 1 座至\\n第 6 座及宏景花園綜合大\\n樓及停車場 \\nTowers 1...   \n",
       "2       2  黃大仙嘉峰臺第 1 座至第\\n5 座 \\n \\nBlocks 1 to 5, Kingsfo...   \n",
       "1       3  屯門大興花園第二期第 10\\n座及第 11 座 \\n \\nBlocks 10 and 11,...   \n",
       "2       4  屯門卓爾居第二期第 5 座\\n及第 6 座 \\nBlocks 5 and 6, Phase ...   \n",
       "3       5  沙田美田邨美麗樓及美田\\n商場 \\nMei Lai House, Mei Tin \\nEst...   \n",
       "\n",
       "                          Specified_Datetimes_Periods  \\\n",
       "1   (\\n2022-01-24 ~ 2022-02-06 \\n曾身處指明場所超過兩\\n小時) \\...   \n",
       "2   (\\n2022-01-24 ~ 2022-02-06 \\n曾身處指明場所超過兩\\n小時) \\...   \n",
       "1   (\\n2022-01-24 ~ 2022-02-06 \\n曾身處指明場所超過兩\\n小時) \\...   \n",
       "2   (\\n2022-01-24 ~ 2022-02-06 \\n曾身處指明場所超過兩\\n小時) \\...   \n",
       "3   (\\n2022-01-24 ~ 2022-02-06 \\n曾身處指明場所超過兩\\n小時) \\...   \n",
       "..                                                ...   \n",
       "1   2022-01-24 ~ 2022-02-06 \\n(曾身處指明場所超過兩\\n小時) \\n(...   \n",
       "2   2022-01-24 ~ 2022-02-06 \\n(曾身處指明場所超過兩\\n小時) \\n(...   \n",
       "1   2022-01-24 ~ 2022-02-06 \\n(曾身處指明場所超過兩\\n小時) \\n(...   \n",
       "2   2022-01-24 ~ 2022-02-06 \\n(曾身處指明場所超過兩\\n小時) \\n(...   \n",
       "3   2022-01-24 ~ 2022-02-06 \\n(曾身處指明場所超過兩\\n小時) \\n(...   \n",
       "\n",
       "                               Required_Testing_Dates  \n",
       "1   (1)  2022-02-06  ~  2022-02-\\n08 \\n(2)  2022-0...  \n",
       "2                                                      \n",
       "1   (1)  2022-02-06  ~  2022-02-\\n08 \\n(2)  2022-0...  \n",
       "2                                                      \n",
       "3                                                      \n",
       "..                                                ...  \n",
       "1                             2022-02-06 ~ 2022-02-08  \n",
       "2                             2022-02-06 ~ 2022-02-08  \n",
       "1                             2022-02-06 ~ 2022-02-08  \n",
       "2                             2022-02-06 ~ 2022-02-08  \n",
       "3                             2022-02-06 ~ 2022-02-08  \n",
       "\n",
       "[61 rows x 4 columns]"
      ]
     },
     "execution_count": 12,
     "metadata": {},
     "output_type": "execute_result"
    }
   ],
   "source": [
    "# Display header of dataframe.\n",
    "data_final_2"
   ]
  },
  {
   "cell_type": "code",
   "execution_count": 13,
   "id": "feba7ac6",
   "metadata": {},
   "outputs": [
    {
     "name": "stdout",
     "output_type": "stream",
     "text": [
      "2022-02-06\n"
     ]
    }
   ],
   "source": [
    "# Define the variable for the date string.\n",
    "yesterday = date.today() - timedelta(days=1)\n",
    "yesterday_b = yesterday.strftime('%Y-%m-%d')\n",
    "print(yesterday_b)"
   ]
  },
  {
   "cell_type": "code",
   "execution_count": 14,
   "id": "6a256baa",
   "metadata": {},
   "outputs": [],
   "source": [
    "# Filter dataframe by the specific name of district (Tai Po) and date (today).\n",
    "data_final_Tai_Po_Yesterday = data_final_2[(data_final_2['Specified_Place'].str.contains(\"Tai Po\")) & \n",
    "                                        data_final_2['Specified_Datetimes_Periods'].str.contains(yesterday_b)]"
   ]
  },
  {
   "cell_type": "code",
   "execution_count": 15,
   "id": "4b232b17",
   "metadata": {},
   "outputs": [
    {
     "data": {
      "text/html": [
       "<div>\n",
       "<style scoped>\n",
       "    .dataframe tbody tr th:only-of-type {\n",
       "        vertical-align: middle;\n",
       "    }\n",
       "\n",
       "    .dataframe tbody tr th {\n",
       "        vertical-align: top;\n",
       "    }\n",
       "\n",
       "    .dataframe thead th {\n",
       "        text-align: right;\n",
       "    }\n",
       "</style>\n",
       "<table border=\"1\" class=\"dataframe\">\n",
       "  <thead>\n",
       "    <tr style=\"text-align: right;\">\n",
       "      <th></th>\n",
       "      <th>Number</th>\n",
       "      <th>Specified_Place</th>\n",
       "      <th>Specified_Datetimes_Periods</th>\n",
       "      <th>Required_Testing_Dates</th>\n",
       "    </tr>\n",
       "  </thead>\n",
       "  <tbody>\n",
       "    <tr>\n",
       "      <th>4</th>\n",
       "      <td>50.</td>\n",
       "      <td>大埔太和邨麗和樓 \\nLai  Wo  House,  Tai  Wo \\nEstate, ...</td>\n",
       "      <td>(\\n2022-01-24 ~ 2022-02-06 \\n曾身處指明場所超過兩\\n小時) \\...</td>\n",
       "      <td></td>\n",
       "    </tr>\n",
       "  </tbody>\n",
       "</table>\n",
       "</div>"
      ],
      "text/plain": [
       "  Number                                    Specified_Place  \\\n",
       "4    50.  大埔太和邨麗和樓 \\nLai  Wo  House,  Tai  Wo \\nEstate, ...   \n",
       "\n",
       "                         Specified_Datetimes_Periods Required_Testing_Dates  \n",
       "4  (\\n2022-01-24 ~ 2022-02-06 \\n曾身處指明場所超過兩\\n小時) \\...                         "
      ]
     },
     "execution_count": 15,
     "metadata": {},
     "output_type": "execute_result"
    }
   ],
   "source": [
    "# Display header of dataframe.\n",
    "data_final_Tai_Po_Yesterday"
   ]
  },
  {
   "cell_type": "code",
   "execution_count": 16,
   "id": "8f77b286",
   "metadata": {},
   "outputs": [],
   "source": [
    "# Filter dataframe by the specific name of district (Tsuen Wan) and date (today).\n",
    "data_final_Tsuen_Wan_Yesterday = data_final_2[(data_final_2['Specified_Place'].str.contains(\"Tsuen Wan\")) & \n",
    "                                        data_final_2['Specified_Datetimes_Periods'].str.contains(yesterday_b)]"
   ]
  },
  {
   "cell_type": "code",
   "execution_count": 17,
   "id": "7226e57d",
   "metadata": {},
   "outputs": [
    {
     "data": {
      "text/html": [
       "<div>\n",
       "<style scoped>\n",
       "    .dataframe tbody tr th:only-of-type {\n",
       "        vertical-align: middle;\n",
       "    }\n",
       "\n",
       "    .dataframe tbody tr th {\n",
       "        vertical-align: top;\n",
       "    }\n",
       "\n",
       "    .dataframe thead th {\n",
       "        text-align: right;\n",
       "    }\n",
       "</style>\n",
       "<table border=\"1\" class=\"dataframe\">\n",
       "  <thead>\n",
       "    <tr style=\"text-align: right;\">\n",
       "      <th></th>\n",
       "      <th>Number</th>\n",
       "      <th>Specified_Place</th>\n",
       "      <th>Specified_Datetimes_Periods</th>\n",
       "      <th>Required_Testing_Dates</th>\n",
       "    </tr>\n",
       "  </thead>\n",
       "  <tbody>\n",
       "  </tbody>\n",
       "</table>\n",
       "</div>"
      ],
      "text/plain": [
       "Empty DataFrame\n",
       "Columns: [Number, Specified_Place, Specified_Datetimes_Periods, Required_Testing_Dates]\n",
       "Index: []"
      ]
     },
     "execution_count": 17,
     "metadata": {},
     "output_type": "execute_result"
    }
   ],
   "source": [
    "# Display header of dataframe.\n",
    "data_final_Tsuen_Wan_Yesterday"
   ]
  }
 ],
 "metadata": {
  "kernelspec": {
   "display_name": "Python 3 (ipykernel)",
   "language": "python",
   "name": "python3"
  },
  "language_info": {
   "codemirror_mode": {
    "name": "ipython",
    "version": 3
   },
   "file_extension": ".py",
   "mimetype": "text/x-python",
   "name": "python",
   "nbconvert_exporter": "python",
   "pygments_lexer": "ipython3",
   "version": "3.9.7"
  }
 },
 "nbformat": 4,
 "nbformat_minor": 5
}
