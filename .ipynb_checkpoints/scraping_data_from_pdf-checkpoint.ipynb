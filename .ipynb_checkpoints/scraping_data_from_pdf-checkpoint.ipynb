{
 "cells": [
  {
   "cell_type": "code",
   "execution_count": 16,
   "id": "a0561365",
   "metadata": {},
   "outputs": [],
   "source": [
    "# Import necessary libraries.\n",
    "import requests\n",
    "import camelot\n",
    "import pandas as pd\n",
    "from datetime import date"
   ]
  },
  {
   "cell_type": "code",
   "execution_count": 2,
   "id": "b4921338",
   "metadata": {},
   "outputs": [
    {
     "data": {
      "text/plain": [
       "532457"
      ]
     },
     "execution_count": 2,
     "metadata": {},
     "output_type": "execute_result"
    }
   ],
   "source": [
    "# Download source latest PDF file \"Arrangements for Compulsory Testing\n",
    "# in respect of Buildings Resided by COVID-19 Cases with the N501Y/L452R variants\n",
    "# in accordance with the Compulsory Testing Notice issued on 10 January 2022\" from coronavirus.gov.hk.\n",
    "url = 'https://www.coronavirus.gov.hk/pdf/CTN_Specified_premises_and_Dates_of_Testing.pdf'\n",
    "r = requests.get(url, allow_redirects=True)\n",
    "\n",
    "open('data/CTN_Specified_premises_and_Dates_of_Testing.pdf', 'wb').write(r.content)"
   ]
  },
  {
   "cell_type": "code",
   "execution_count": 3,
   "id": "02d36794",
   "metadata": {},
   "outputs": [],
   "source": [
    "# Define the source PDF file path.\n",
    "source_file = 'data/CTN_Specified_premises_and_Dates_of_Testing.pdf'"
   ]
  },
  {
   "cell_type": "code",
   "execution_count": 4,
   "id": "dec6d8fe",
   "metadata": {},
   "outputs": [],
   "source": [
    "# Extract all tables from all pages in a PDF file.\n",
    "data_tables = camelot.read_pdf(source_file, pages='all')"
   ]
  },
  {
   "cell_type": "code",
   "execution_count": 5,
   "id": "133cdd3b",
   "metadata": {},
   "outputs": [
    {
     "name": "stdout",
     "output_type": "stream",
     "text": [
      "Total Number of Tables Being Extracted: 12\n"
     ]
    }
   ],
   "source": [
    "# Print the number or tables are bthat eing extracted.\n",
    "print(\"Total Number of Tables Being Extracted:\", data_tables.n)"
   ]
  },
  {
   "cell_type": "code",
   "execution_count": 6,
   "id": "d360a252",
   "metadata": {},
   "outputs": [],
   "source": [
    "# Parse all extract tables into a single list.\n",
    "data_list = []\n",
    "\n",
    "for t in range(data_tables.n):\n",
    "    data = data_tables[t].df\n",
    "    data_list.append(data)"
   ]
  },
  {
   "cell_type": "code",
   "execution_count": 7,
   "id": "3c4cd88a",
   "metadata": {},
   "outputs": [],
   "source": [
    "# Convert list into Pandas dataframe.\n",
    "data_final_1 = pd.concat(data_list, ignore_index=False, sort=False)"
   ]
  },
  {
   "cell_type": "code",
   "execution_count": 8,
   "id": "53486742",
   "metadata": {},
   "outputs": [],
   "source": [
    "# Change the dataframe column headers.\n",
    "data_final_1.columns = ['Specified_Premises', 'Dates_of_Testing']"
   ]
  },
  {
   "cell_type": "code",
   "execution_count": 9,
   "id": "f9405309",
   "metadata": {},
   "outputs": [
    {
     "data": {
      "text/html": [
       "<div>\n",
       "<style scoped>\n",
       "    .dataframe tbody tr th:only-of-type {\n",
       "        vertical-align: middle;\n",
       "    }\n",
       "\n",
       "    .dataframe tbody tr th {\n",
       "        vertical-align: top;\n",
       "    }\n",
       "\n",
       "    .dataframe thead th {\n",
       "        text-align: right;\n",
       "    }\n",
       "</style>\n",
       "<table border=\"1\" class=\"dataframe\">\n",
       "  <thead>\n",
       "    <tr style=\"text-align: right;\">\n",
       "      <th></th>\n",
       "      <th>Specified_Premises</th>\n",
       "      <th>Dates_of_Testing</th>\n",
       "    </tr>\n",
       "  </thead>\n",
       "  <tbody>\n",
       "    <tr>\n",
       "      <th>0</th>\n",
       "      <td>指明地方 \\nSpecified Premises</td>\n",
       "      <td>檢測日期 \\n(日/月/年) \\nDates of Testing \\n(DD/MM/YYYY)</td>\n",
       "    </tr>\n",
       "    <tr>\n",
       "      <th>1</th>\n",
       "      <td>香港仔東勝道 2-4 號 \\n2-4 Tung Sing Road, Aberdeen</td>\n",
       "      <td>04/02/2022</td>\n",
       "    </tr>\n",
       "    <tr>\n",
       "      <th>2</th>\n",
       "      <td>長沙灣元州街 450-464 號寶華閣 \\nPo Wah Court, 450-464 Un...</td>\n",
       "      <td>05/02/2022</td>\n",
       "    </tr>\n",
       "    <tr>\n",
       "      <th>3</th>\n",
       "      <td>香港仔嘉隆苑嘉昇閣 \\nKa Sing House, Ka Lung Court, Aber...</td>\n",
       "      <td>06/02/2022</td>\n",
       "    </tr>\n",
       "    <tr>\n",
       "      <th>4</th>\n",
       "      <td>東涌映灣園 1 期賞濤軒 1 座 \\nTower 1, Monterey Cove, Car...</td>\n",
       "      <td>06/02/2022</td>\n",
       "    </tr>\n",
       "    <tr>\n",
       "      <th>...</th>\n",
       "      <td>...</td>\n",
       "      <td>...</td>\n",
       "    </tr>\n",
       "    <tr>\n",
       "      <th>11</th>\n",
       "      <td>沙田博康邨博智樓 \\nPok Chi House, Pok Hong Estate, Sha...</td>\n",
       "      <td>06/02/2022</td>\n",
       "    </tr>\n",
       "    <tr>\n",
       "      <th>12</th>\n",
       "      <td>西營盤怡豐閣 \\nYee Fung Court, Sai Ying Pun</td>\n",
       "      <td>05/02/2022 \\n06/02/2022 \\n09/02/2022</td>\n",
       "    </tr>\n",
       "    <tr>\n",
       "      <th>13</th>\n",
       "      <td>深水埗南昌街 137 號 \\n137 Nam Cheong Street, Sham Shu...</td>\n",
       "      <td>05/02/2022 \\n06/02/2022 \\n07/02/2022 \\n10/02/2022</td>\n",
       "    </tr>\n",
       "    <tr>\n",
       "      <th>0</th>\n",
       "      <td>指明地方 \\nSpecified Premises</td>\n",
       "      <td>檢測日期 \\n(日/月/年) \\nDates of Testing \\n(DD/MM/YYYY)</td>\n",
       "    </tr>\n",
       "    <tr>\n",
       "      <th>1</th>\n",
       "      <td>大圍沙田頭新村 6 區 \\nArea 6, Sha Tin Tau San Tsuen, T...</td>\n",
       "      <td>05/02/2022 \\n06/02/2022 \\n09/02/2022</td>\n",
       "    </tr>\n",
       "  </tbody>\n",
       "</table>\n",
       "<p>163 rows × 2 columns</p>\n",
       "</div>"
      ],
      "text/plain": [
       "                                   Specified_Premises  \\\n",
       "0                           指明地方 \\nSpecified Premises   \n",
       "1         香港仔東勝道 2-4 號 \\n2-4 Tung Sing Road, Aberdeen   \n",
       "2   長沙灣元州街 450-464 號寶華閣 \\nPo Wah Court, 450-464 Un...   \n",
       "3   香港仔嘉隆苑嘉昇閣 \\nKa Sing House, Ka Lung Court, Aber...   \n",
       "4   東涌映灣園 1 期賞濤軒 1 座 \\nTower 1, Monterey Cove, Car...   \n",
       "..                                                ...   \n",
       "11  沙田博康邨博智樓 \\nPok Chi House, Pok Hong Estate, Sha...   \n",
       "12              西營盤怡豐閣 \\nYee Fung Court, Sai Ying Pun   \n",
       "13  深水埗南昌街 137 號 \\n137 Nam Cheong Street, Sham Shu...   \n",
       "0                           指明地方 \\nSpecified Premises   \n",
       "1   大圍沙田頭新村 6 區 \\nArea 6, Sha Tin Tau San Tsuen, T...   \n",
       "\n",
       "                                     Dates_of_Testing  \n",
       "0    檢測日期 \\n(日/月/年) \\nDates of Testing \\n(DD/MM/YYYY)  \n",
       "1                                          04/02/2022  \n",
       "2                                          05/02/2022  \n",
       "3                                          06/02/2022  \n",
       "4                                          06/02/2022  \n",
       "..                                                ...  \n",
       "11                                         06/02/2022  \n",
       "12               05/02/2022 \\n06/02/2022 \\n09/02/2022  \n",
       "13  05/02/2022 \\n06/02/2022 \\n07/02/2022 \\n10/02/2022  \n",
       "0    檢測日期 \\n(日/月/年) \\nDates of Testing \\n(DD/MM/YYYY)  \n",
       "1                05/02/2022 \\n06/02/2022 \\n09/02/2022  \n",
       "\n",
       "[163 rows x 2 columns]"
      ]
     },
     "execution_count": 9,
     "metadata": {},
     "output_type": "execute_result"
    }
   ],
   "source": [
    "# Display header of dataframe.\n",
    "data_final_1"
   ]
  },
  {
   "cell_type": "code",
   "execution_count": 10,
   "id": "037c6496",
   "metadata": {},
   "outputs": [],
   "source": [
    "# Erase unnecessary rows from the dataframe.\n",
    "data_final_2 = data_final_1[data_final_1.Specified_Premises != '指明地方 \\nSpecified Premises']"
   ]
  },
  {
   "cell_type": "code",
   "execution_count": 11,
   "id": "002f5d71",
   "metadata": {},
   "outputs": [
    {
     "data": {
      "text/html": [
       "<div>\n",
       "<style scoped>\n",
       "    .dataframe tbody tr th:only-of-type {\n",
       "        vertical-align: middle;\n",
       "    }\n",
       "\n",
       "    .dataframe tbody tr th {\n",
       "        vertical-align: top;\n",
       "    }\n",
       "\n",
       "    .dataframe thead th {\n",
       "        text-align: right;\n",
       "    }\n",
       "</style>\n",
       "<table border=\"1\" class=\"dataframe\">\n",
       "  <thead>\n",
       "    <tr style=\"text-align: right;\">\n",
       "      <th></th>\n",
       "      <th>Specified_Premises</th>\n",
       "      <th>Dates_of_Testing</th>\n",
       "    </tr>\n",
       "  </thead>\n",
       "  <tbody>\n",
       "    <tr>\n",
       "      <th>1</th>\n",
       "      <td>香港仔東勝道 2-4 號 \\n2-4 Tung Sing Road, Aberdeen</td>\n",
       "      <td>04/02/2022</td>\n",
       "    </tr>\n",
       "    <tr>\n",
       "      <th>2</th>\n",
       "      <td>長沙灣元州街 450-464 號寶華閣 \\nPo Wah Court, 450-464 Un...</td>\n",
       "      <td>05/02/2022</td>\n",
       "    </tr>\n",
       "    <tr>\n",
       "      <th>3</th>\n",
       "      <td>香港仔嘉隆苑嘉昇閣 \\nKa Sing House, Ka Lung Court, Aber...</td>\n",
       "      <td>06/02/2022</td>\n",
       "    </tr>\n",
       "    <tr>\n",
       "      <th>4</th>\n",
       "      <td>東涌映灣園 1 期賞濤軒 1 座 \\nTower 1, Monterey Cove, Car...</td>\n",
       "      <td>06/02/2022</td>\n",
       "    </tr>\n",
       "    <tr>\n",
       "      <th>5</th>\n",
       "      <td>觀塘協和街 33 號凱滙第 3 座 \\nTower 3, Grand Central, 33...</td>\n",
       "      <td>06/02/2022</td>\n",
       "    </tr>\n",
       "    <tr>\n",
       "      <th>...</th>\n",
       "      <td>...</td>\n",
       "      <td>...</td>\n",
       "    </tr>\n",
       "    <tr>\n",
       "      <th>10</th>\n",
       "      <td>葵涌葵翠邨碧翠樓 \\nBik Tsui House, Kwai Tsui Estate, K...</td>\n",
       "      <td>06/02/2022</td>\n",
       "    </tr>\n",
       "    <tr>\n",
       "      <th>11</th>\n",
       "      <td>沙田博康邨博智樓 \\nPok Chi House, Pok Hong Estate, Sha...</td>\n",
       "      <td>06/02/2022</td>\n",
       "    </tr>\n",
       "    <tr>\n",
       "      <th>12</th>\n",
       "      <td>西營盤怡豐閣 \\nYee Fung Court, Sai Ying Pun</td>\n",
       "      <td>05/02/2022 \\n06/02/2022 \\n09/02/2022</td>\n",
       "    </tr>\n",
       "    <tr>\n",
       "      <th>13</th>\n",
       "      <td>深水埗南昌街 137 號 \\n137 Nam Cheong Street, Sham Shu...</td>\n",
       "      <td>05/02/2022 \\n06/02/2022 \\n07/02/2022 \\n10/02/2022</td>\n",
       "    </tr>\n",
       "    <tr>\n",
       "      <th>1</th>\n",
       "      <td>大圍沙田頭新村 6 區 \\nArea 6, Sha Tin Tau San Tsuen, T...</td>\n",
       "      <td>05/02/2022 \\n06/02/2022 \\n09/02/2022</td>\n",
       "    </tr>\n",
       "  </tbody>\n",
       "</table>\n",
       "<p>151 rows × 2 columns</p>\n",
       "</div>"
      ],
      "text/plain": [
       "                                   Specified_Premises  \\\n",
       "1         香港仔東勝道 2-4 號 \\n2-4 Tung Sing Road, Aberdeen   \n",
       "2   長沙灣元州街 450-464 號寶華閣 \\nPo Wah Court, 450-464 Un...   \n",
       "3   香港仔嘉隆苑嘉昇閣 \\nKa Sing House, Ka Lung Court, Aber...   \n",
       "4   東涌映灣園 1 期賞濤軒 1 座 \\nTower 1, Monterey Cove, Car...   \n",
       "5   觀塘協和街 33 號凱滙第 3 座 \\nTower 3, Grand Central, 33...   \n",
       "..                                                ...   \n",
       "10  葵涌葵翠邨碧翠樓 \\nBik Tsui House, Kwai Tsui Estate, K...   \n",
       "11  沙田博康邨博智樓 \\nPok Chi House, Pok Hong Estate, Sha...   \n",
       "12              西營盤怡豐閣 \\nYee Fung Court, Sai Ying Pun   \n",
       "13  深水埗南昌街 137 號 \\n137 Nam Cheong Street, Sham Shu...   \n",
       "1   大圍沙田頭新村 6 區 \\nArea 6, Sha Tin Tau San Tsuen, T...   \n",
       "\n",
       "                                     Dates_of_Testing  \n",
       "1                                          04/02/2022  \n",
       "2                                          05/02/2022  \n",
       "3                                          06/02/2022  \n",
       "4                                          06/02/2022  \n",
       "5                                          06/02/2022  \n",
       "..                                                ...  \n",
       "10                                         06/02/2022  \n",
       "11                                         06/02/2022  \n",
       "12               05/02/2022 \\n06/02/2022 \\n09/02/2022  \n",
       "13  05/02/2022 \\n06/02/2022 \\n07/02/2022 \\n10/02/2022  \n",
       "1                05/02/2022 \\n06/02/2022 \\n09/02/2022  \n",
       "\n",
       "[151 rows x 2 columns]"
      ]
     },
     "execution_count": 11,
     "metadata": {},
     "output_type": "execute_result"
    }
   ],
   "source": [
    "# Display header of dataframe.\n",
    "data_final_2"
   ]
  },
  {
   "cell_type": "code",
   "execution_count": 21,
   "id": "feba7ac6",
   "metadata": {},
   "outputs": [
    {
     "name": "stdout",
     "output_type": "stream",
     "text": [
      "04/02/2022\n"
     ]
    }
   ],
   "source": [
    "# Define the variable for the date string.\n",
    "today = date.today()\n",
    "today_a = today.strftime(\"%d/%m/%Y\")\n",
    "print(today_a)"
   ]
  },
  {
   "cell_type": "code",
   "execution_count": 34,
   "id": "6a256baa",
   "metadata": {},
   "outputs": [],
   "source": [
    "# Filter dataframe by the specific name of district (Tai Po) and date (today).\n",
    "data_final_Tai_Po_Today = data_final_2[(data_final_2['Specified_Premises'].str.contains(\"Tai Po\")) & \n",
    "                                        data_final_2['Dates_of_Testing'].str.contains(str(today_a))]"
   ]
  },
  {
   "cell_type": "code",
   "execution_count": 35,
   "id": "4b232b17",
   "metadata": {},
   "outputs": [
    {
     "data": {
      "text/html": [
       "<div>\n",
       "<style scoped>\n",
       "    .dataframe tbody tr th:only-of-type {\n",
       "        vertical-align: middle;\n",
       "    }\n",
       "\n",
       "    .dataframe tbody tr th {\n",
       "        vertical-align: top;\n",
       "    }\n",
       "\n",
       "    .dataframe thead th {\n",
       "        text-align: right;\n",
       "    }\n",
       "</style>\n",
       "<table border=\"1\" class=\"dataframe\">\n",
       "  <thead>\n",
       "    <tr style=\"text-align: right;\">\n",
       "      <th></th>\n",
       "      <th>Specified_Premises</th>\n",
       "      <th>Dates_of_Testing</th>\n",
       "    </tr>\n",
       "  </thead>\n",
       "  <tbody>\n",
       "    <tr>\n",
       "      <th>10</th>\n",
       "      <td>大埔大明里 1-27 號寶華樓 C 座 \\nBlock C, Po Wah Building...</td>\n",
       "      <td>04/02/2022</td>\n",
       "    </tr>\n",
       "    <tr>\n",
       "      <th>3</th>\n",
       "      <td>大埔太和邨福和樓 \\nFook Wo House, Tai Wo Estate, Tai Po</td>\n",
       "      <td>04/02/2022 \\n05/02/2022 \\n06/02/2022 \\n09/02/2022</td>\n",
       "    </tr>\n",
       "    <tr>\n",
       "      <th>8</th>\n",
       "      <td>深水埗大埔道 76-84 號華僑大廈 \\nWah Kiu Mansion, 76-84 Ta...</td>\n",
       "      <td>04/02/2022 \\n05/02/2022 \\n06/02/2022 \\n09/02/2022</td>\n",
       "    </tr>\n",
       "    <tr>\n",
       "      <th>5</th>\n",
       "      <td>大埔太和邨翠和樓 \\nTsui Wo House, Tai Wo Estate, Tai Po</td>\n",
       "      <td>04/02/2022 \\n05/02/2022 \\n06/02/2022 \\n09/02/2022</td>\n",
       "    </tr>\n",
       "    <tr>\n",
       "      <th>7</th>\n",
       "      <td>大埔海日灣 II \\n  11 座 \\nTower 11, Centra Horizon, ...</td>\n",
       "      <td>04/02/2022 \\n05/02/2022 \\n08/02/2022</td>\n",
       "    </tr>\n",
       "    <tr>\n",
       "      <th>9</th>\n",
       "      <td>大埔富善邨善景樓 \\nShin King House, Fu Shin Estate, Ta...</td>\n",
       "      <td>04/02/2022 \\n05/02/2022 \\n08/02/2022</td>\n",
       "    </tr>\n",
       "  </tbody>\n",
       "</table>\n",
       "</div>"
      ],
      "text/plain": [
       "                                   Specified_Premises  \\\n",
       "10  大埔大明里 1-27 號寶華樓 C 座 \\nBlock C, Po Wah Building...   \n",
       "3     大埔太和邨福和樓 \\nFook Wo House, Tai Wo Estate, Tai Po   \n",
       "8   深水埗大埔道 76-84 號華僑大廈 \\nWah Kiu Mansion, 76-84 Ta...   \n",
       "5     大埔太和邨翠和樓 \\nTsui Wo House, Tai Wo Estate, Tai Po   \n",
       "7   大埔海日灣 II \\n  11 座 \\nTower 11, Centra Horizon, ...   \n",
       "9   大埔富善邨善景樓 \\nShin King House, Fu Shin Estate, Ta...   \n",
       "\n",
       "                                     Dates_of_Testing  \n",
       "10                                         04/02/2022  \n",
       "3   04/02/2022 \\n05/02/2022 \\n06/02/2022 \\n09/02/2022  \n",
       "8   04/02/2022 \\n05/02/2022 \\n06/02/2022 \\n09/02/2022  \n",
       "5   04/02/2022 \\n05/02/2022 \\n06/02/2022 \\n09/02/2022  \n",
       "7                04/02/2022 \\n05/02/2022 \\n08/02/2022  \n",
       "9                04/02/2022 \\n05/02/2022 \\n08/02/2022  "
      ]
     },
     "execution_count": 35,
     "metadata": {},
     "output_type": "execute_result"
    }
   ],
   "source": [
    "# Display header of dataframe.\n",
    "data_final_Tai_Po_Today"
   ]
  },
  {
   "cell_type": "code",
   "execution_count": 36,
   "id": "8f77b286",
   "metadata": {},
   "outputs": [],
   "source": [
    "# Filter dataframe by the specific name of district (Tsuen Wan) and date (today).\n",
    "data_final_Tsuen_Wan_Today = data_final_2[(data_final_2['Specified_Premises'].str.contains(\"Tsuen Wan\")) & \n",
    "                                        data_final_2['Dates_of_Testing'].str.contains(str(today_a))]"
   ]
  },
  {
   "cell_type": "code",
   "execution_count": 37,
   "id": "7226e57d",
   "metadata": {},
   "outputs": [
    {
     "data": {
      "text/html": [
       "<div>\n",
       "<style scoped>\n",
       "    .dataframe tbody tr th:only-of-type {\n",
       "        vertical-align: middle;\n",
       "    }\n",
       "\n",
       "    .dataframe tbody tr th {\n",
       "        vertical-align: top;\n",
       "    }\n",
       "\n",
       "    .dataframe thead th {\n",
       "        text-align: right;\n",
       "    }\n",
       "</style>\n",
       "<table border=\"1\" class=\"dataframe\">\n",
       "  <thead>\n",
       "    <tr style=\"text-align: right;\">\n",
       "      <th></th>\n",
       "      <th>Specified_Premises</th>\n",
       "      <th>Dates_of_Testing</th>\n",
       "    </tr>\n",
       "  </thead>\n",
       "  <tbody>\n",
       "    <tr>\n",
       "      <th>9</th>\n",
       "      <td>荃灣石圍角邨石菊樓 \\nShek Kuk House, Shek Wai Kok Estat...</td>\n",
       "      <td>04/02/2022</td>\n",
       "    </tr>\n",
       "    <tr>\n",
       "      <th>13</th>\n",
       "      <td>荃灣翠豐臺 3 座 \\nBlock 3, Summit Terrace, Tsuen Wan</td>\n",
       "      <td>04/02/2022</td>\n",
       "    </tr>\n",
       "    <tr>\n",
       "      <th>11</th>\n",
       "      <td>荃灣綠楊新邨 F 座 \\nBlock F, Luk Yeung Sun Chuen, Tsu...</td>\n",
       "      <td>04/02/2022 \\n07/02/2022</td>\n",
       "    </tr>\n",
       "    <tr>\n",
       "      <th>12</th>\n",
       "      <td>荃灣綠楊新邨 P 座 \\nBlock P, Luk Yeung Sun Chuen, Tsu...</td>\n",
       "      <td>04/02/2022 \\n07/02/2022</td>\n",
       "    </tr>\n",
       "    <tr>\n",
       "      <th>8</th>\n",
       "      <td>荃灣海濱花園海銀閣 \\nHoi Ngan Mansion, Riviera Gardens,...</td>\n",
       "      <td>04/02/2022 \\n07/02/2022</td>\n",
       "    </tr>\n",
       "  </tbody>\n",
       "</table>\n",
       "</div>"
      ],
      "text/plain": [
       "                                   Specified_Premises         Dates_of_Testing\n",
       "9   荃灣石圍角邨石菊樓 \\nShek Kuk House, Shek Wai Kok Estat...               04/02/2022\n",
       "13     荃灣翠豐臺 3 座 \\nBlock 3, Summit Terrace, Tsuen Wan               04/02/2022\n",
       "11  荃灣綠楊新邨 F 座 \\nBlock F, Luk Yeung Sun Chuen, Tsu...  04/02/2022 \\n07/02/2022\n",
       "12  荃灣綠楊新邨 P 座 \\nBlock P, Luk Yeung Sun Chuen, Tsu...  04/02/2022 \\n07/02/2022\n",
       "8   荃灣海濱花園海銀閣 \\nHoi Ngan Mansion, Riviera Gardens,...  04/02/2022 \\n07/02/2022"
      ]
     },
     "execution_count": 37,
     "metadata": {},
     "output_type": "execute_result"
    }
   ],
   "source": [
    "# Display header of dataframe.\n",
    "data_final_Tsuen_Wan_Today"
   ]
  }
 ],
 "metadata": {
  "kernelspec": {
   "display_name": "Python 3 (ipykernel)",
   "language": "python",
   "name": "python3"
  },
  "language_info": {
   "codemirror_mode": {
    "name": "ipython",
    "version": 3
   },
   "file_extension": ".py",
   "mimetype": "text/x-python",
   "name": "python",
   "nbconvert_exporter": "python",
   "pygments_lexer": "ipython3",
   "version": "3.9.7"
  }
 },
 "nbformat": 4,
 "nbformat_minor": 5
}
