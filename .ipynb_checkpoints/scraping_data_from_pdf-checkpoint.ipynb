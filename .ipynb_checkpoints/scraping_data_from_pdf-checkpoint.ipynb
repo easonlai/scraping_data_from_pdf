{
 "cells": [
  {
   "cell_type": "code",
   "execution_count": 9,
   "id": "a0561365",
   "metadata": {},
   "outputs": [],
   "source": [
    "# Import necessary libraries.\n",
    "import requests\n",
    "import camelot\n",
    "import pandas as pd\n",
    "from datetime import date, timedelta"
   ]
  },
  {
   "cell_type": "code",
   "execution_count": 5,
   "id": "45a6e2e3",
   "metadata": {},
   "outputs": [
    {
     "name": "stdout",
     "output_type": "stream",
     "text": [
      "20220220\n",
      "20220221\n"
     ]
    }
   ],
   "source": [
    "# Define the variable for the date string.\n",
    "yesterday = date.today() - timedelta(days=1)\n",
    "yesterday_a = yesterday.strftime('%Y%m%d')\n",
    "today = date.today()\n",
    "today_a = today.strftime('%Y%m%d')\n",
    "print(yesterday_a)\n",
    "print(today_a)"
   ]
  },
  {
   "cell_type": "code",
   "execution_count": 6,
   "id": "b4921338",
   "metadata": {},
   "outputs": [
    {
     "data": {
      "text/plain": [
       "465798"
      ]
     },
     "execution_count": 6,
     "metadata": {},
     "output_type": "execute_result"
    }
   ],
   "source": [
    "# Download source latest PDF file \"Arrangements for Compulsory Testing\n",
    "# in respect of Buildings Resided by COVID-19 Cases with the N501Y/L452R variants\n",
    "# in accordance with the Compulsory Testing Notice issued on 10 January 2022\" from coronavirus.gov.hk.\n",
    "url = 'https://www.coronavirus.gov.hk/pdf/CTN_Specified_premises_and_Dates_of_Testing.pdf'\n",
    "r = requests.get(url, allow_redirects=True)\n",
    "\n",
    "file_path = 'data/CTN_Specified_premises_and_Dates_of_Testing_' + today_a + '.pdf'\n",
    "\n",
    "open(file_path, 'wb').write(r.content)"
   ]
  },
  {
   "cell_type": "code",
   "execution_count": 7,
   "id": "02d36794",
   "metadata": {},
   "outputs": [],
   "source": [
    "# Define the source PDF file path.\n",
    "source_file = file_path"
   ]
  },
  {
   "cell_type": "code",
   "execution_count": 8,
   "id": "dec6d8fe",
   "metadata": {},
   "outputs": [],
   "source": [
    "# Extract all tables from all pages in a PDF file.\n",
    "data_tables = camelot.read_pdf(source_file, pages='all')"
   ]
  },
  {
   "cell_type": "code",
   "execution_count": 10,
   "id": "133cdd3b",
   "metadata": {},
   "outputs": [
    {
     "name": "stdout",
     "output_type": "stream",
     "text": [
      "Total Number of Tables Being Extracted: 8\n"
     ]
    }
   ],
   "source": [
    "# Print the number or tables are bthat eing extracted.\n",
    "print(\"Total Number of Tables Being Extracted:\", data_tables.n)"
   ]
  },
  {
   "cell_type": "code",
   "execution_count": 11,
   "id": "d360a252",
   "metadata": {},
   "outputs": [],
   "source": [
    "# Parse all extract tables into a single list.\n",
    "data_list = []\n",
    "\n",
    "for t in range(data_tables.n):\n",
    "    data = data_tables[t].df\n",
    "    data_list.append(data)"
   ]
  },
  {
   "cell_type": "code",
   "execution_count": 12,
   "id": "3c4cd88a",
   "metadata": {},
   "outputs": [],
   "source": [
    "# Convert list into Pandas dataframe.\n",
    "data_final_1 = pd.concat(data_list, ignore_index=False, sort=False)"
   ]
  },
  {
   "cell_type": "code",
   "execution_count": 13,
   "id": "53486742",
   "metadata": {},
   "outputs": [],
   "source": [
    "# Change the dataframe column headers.\n",
    "data_final_1.columns = ['Specified_Premises', 'Dates_of_Testing']"
   ]
  },
  {
   "cell_type": "code",
   "execution_count": 14,
   "id": "f9405309",
   "metadata": {},
   "outputs": [
    {
     "data": {
      "text/html": [
       "<div>\n",
       "<style scoped>\n",
       "    .dataframe tbody tr th:only-of-type {\n",
       "        vertical-align: middle;\n",
       "    }\n",
       "\n",
       "    .dataframe tbody tr th {\n",
       "        vertical-align: top;\n",
       "    }\n",
       "\n",
       "    .dataframe thead th {\n",
       "        text-align: right;\n",
       "    }\n",
       "</style>\n",
       "<table border=\"1\" class=\"dataframe\">\n",
       "  <thead>\n",
       "    <tr style=\"text-align: right;\">\n",
       "      <th></th>\n",
       "      <th>Specified_Premises</th>\n",
       "      <th>Dates_of_Testing</th>\n",
       "    </tr>\n",
       "  </thead>\n",
       "  <tbody>\n",
       "    <tr>\n",
       "      <th>0</th>\n",
       "      <td>指明地方 \\nSpecified Premises</td>\n",
       "      <td>檢測日期 \\n(日/月/年) \\nDates of Testing \\n(DD/MM/YYYY)</td>\n",
       "    </tr>\n",
       "    <tr>\n",
       "      <th>1</th>\n",
       "      <td>沙田利安邨利盛樓（不包括位於地下 A 及 B 翼的香港神託會培\\n真幼稚園） \\nLee S...</td>\n",
       "      <td>20/02/2022 ~ 22/02/2022</td>\n",
       "    </tr>\n",
       "    <tr>\n",
       "      <th>2</th>\n",
       "      <td>東涌滿東邨滿和樓 \\nMun Wo House, Mun Tung Estate, Tung...</td>\n",
       "      <td>19/02/2022 ~ 21/02/2022</td>\n",
       "    </tr>\n",
       "    <tr>\n",
       "      <th>3</th>\n",
       "      <td>慈雲山慈樂邨樂誠樓 \\nLok Shing House, Tsz Lok Estate, T...</td>\n",
       "      <td>19/02/2022 ~ 21/02/2022</td>\n",
       "    </tr>\n",
       "    <tr>\n",
       "      <th>4</th>\n",
       "      <td>鑽石山鳳德邨紫鳳樓 \\nTsz Fung House, Fung Tak Estate, D...</td>\n",
       "      <td>19/02/2022 ~ 21/02/2022</td>\n",
       "    </tr>\n",
       "    <tr>\n",
       "      <th>...</th>\n",
       "      <td>...</td>\n",
       "      <td>...</td>\n",
       "    </tr>\n",
       "    <tr>\n",
       "      <th>14</th>\n",
       "      <td>石硤尾石硤尾邨 21 座 \\nBlock 21, Shek Kip Mei Estate, ...</td>\n",
       "      <td>21/02/2022 ~ 22/02/2022 \\n23/02/2022 ~ 25/02/2022</td>\n",
       "    </tr>\n",
       "    <tr>\n",
       "      <th>15</th>\n",
       "      <td>沙田禾輋邨景和樓 \\nKing Wo House, Wo Che Estate, Sha Tin</td>\n",
       "      <td>21/02/2022 ~ 22/02/2022 \\n23/02/2022 ~ 25/02/2022</td>\n",
       "    </tr>\n",
       "    <tr>\n",
       "      <th>16</th>\n",
       "      <td>屯門育康街 8 號慧景閣 \\nParkview Court, 8 Yuk Hong Stre...</td>\n",
       "      <td>20/02/2022 ~ 22/02/2022 \\n23/02/2022 ~ 25/02/2022</td>\n",
       "    </tr>\n",
       "    <tr>\n",
       "      <th>17</th>\n",
       "      <td>粉嶺牽晴間 10 座 \\nBlock 10, Dawning Views, Fanling</td>\n",
       "      <td>20/02/2022 ~ 22/02/2022 \\n23/02/2022 ~ 25/02/2022</td>\n",
       "    </tr>\n",
       "    <tr>\n",
       "      <th>18</th>\n",
       "      <td>荃灣荃景花園 9 座 \\nBlock 9, Tsuen King Garden, Tsuen...</td>\n",
       "      <td>20/02/2022 ~ 22/02/2022 \\n23/02/2022 ~ 25/02/2022</td>\n",
       "    </tr>\n",
       "  </tbody>\n",
       "</table>\n",
       "<p>148 rows × 2 columns</p>\n",
       "</div>"
      ],
      "text/plain": [
       "                                   Specified_Premises  \\\n",
       "0                           指明地方 \\nSpecified Premises   \n",
       "1   沙田利安邨利盛樓（不包括位於地下 A 及 B 翼的香港神託會培\\n真幼稚園） \\nLee S...   \n",
       "2   東涌滿東邨滿和樓 \\nMun Wo House, Mun Tung Estate, Tung...   \n",
       "3   慈雲山慈樂邨樂誠樓 \\nLok Shing House, Tsz Lok Estate, T...   \n",
       "4   鑽石山鳳德邨紫鳳樓 \\nTsz Fung House, Fung Tak Estate, D...   \n",
       "..                                                ...   \n",
       "14  石硤尾石硤尾邨 21 座 \\nBlock 21, Shek Kip Mei Estate, ...   \n",
       "15   沙田禾輋邨景和樓 \\nKing Wo House, Wo Che Estate, Sha Tin   \n",
       "16  屯門育康街 8 號慧景閣 \\nParkview Court, 8 Yuk Hong Stre...   \n",
       "17      粉嶺牽晴間 10 座 \\nBlock 10, Dawning Views, Fanling   \n",
       "18  荃灣荃景花園 9 座 \\nBlock 9, Tsuen King Garden, Tsuen...   \n",
       "\n",
       "                                     Dates_of_Testing  \n",
       "0    檢測日期 \\n(日/月/年) \\nDates of Testing \\n(DD/MM/YYYY)  \n",
       "1                             20/02/2022 ~ 22/02/2022  \n",
       "2                             19/02/2022 ~ 21/02/2022  \n",
       "3                             19/02/2022 ~ 21/02/2022  \n",
       "4                             19/02/2022 ~ 21/02/2022  \n",
       "..                                                ...  \n",
       "14  21/02/2022 ~ 22/02/2022 \\n23/02/2022 ~ 25/02/2022  \n",
       "15  21/02/2022 ~ 22/02/2022 \\n23/02/2022 ~ 25/02/2022  \n",
       "16  20/02/2022 ~ 22/02/2022 \\n23/02/2022 ~ 25/02/2022  \n",
       "17  20/02/2022 ~ 22/02/2022 \\n23/02/2022 ~ 25/02/2022  \n",
       "18  20/02/2022 ~ 22/02/2022 \\n23/02/2022 ~ 25/02/2022  \n",
       "\n",
       "[148 rows x 2 columns]"
      ]
     },
     "execution_count": 14,
     "metadata": {},
     "output_type": "execute_result"
    }
   ],
   "source": [
    "# Display header of dataframe.\n",
    "data_final_1"
   ]
  },
  {
   "cell_type": "code",
   "execution_count": 15,
   "id": "037c6496",
   "metadata": {},
   "outputs": [],
   "source": [
    "# Erase unnecessary rows from the dataframe.\n",
    "data_final_2 = data_final_1[data_final_1.Specified_Premises != '指明地方 \\nSpecified Premises']"
   ]
  },
  {
   "cell_type": "code",
   "execution_count": 16,
   "id": "002f5d71",
   "metadata": {},
   "outputs": [
    {
     "data": {
      "text/html": [
       "<div>\n",
       "<style scoped>\n",
       "    .dataframe tbody tr th:only-of-type {\n",
       "        vertical-align: middle;\n",
       "    }\n",
       "\n",
       "    .dataframe tbody tr th {\n",
       "        vertical-align: top;\n",
       "    }\n",
       "\n",
       "    .dataframe thead th {\n",
       "        text-align: right;\n",
       "    }\n",
       "</style>\n",
       "<table border=\"1\" class=\"dataframe\">\n",
       "  <thead>\n",
       "    <tr style=\"text-align: right;\">\n",
       "      <th></th>\n",
       "      <th>Specified_Premises</th>\n",
       "      <th>Dates_of_Testing</th>\n",
       "    </tr>\n",
       "  </thead>\n",
       "  <tbody>\n",
       "    <tr>\n",
       "      <th>1</th>\n",
       "      <td>沙田利安邨利盛樓（不包括位於地下 A 及 B 翼的香港神託會培\\n真幼稚園） \\nLee S...</td>\n",
       "      <td>20/02/2022 ~ 22/02/2022</td>\n",
       "    </tr>\n",
       "    <tr>\n",
       "      <th>2</th>\n",
       "      <td>東涌滿東邨滿和樓 \\nMun Wo House, Mun Tung Estate, Tung...</td>\n",
       "      <td>19/02/2022 ~ 21/02/2022</td>\n",
       "    </tr>\n",
       "    <tr>\n",
       "      <th>3</th>\n",
       "      <td>慈雲山慈樂邨樂誠樓 \\nLok Shing House, Tsz Lok Estate, T...</td>\n",
       "      <td>19/02/2022 ~ 21/02/2022</td>\n",
       "    </tr>\n",
       "    <tr>\n",
       "      <th>4</th>\n",
       "      <td>鑽石山鳳德邨紫鳳樓 \\nTsz Fung House, Fung Tak Estate, D...</td>\n",
       "      <td>19/02/2022 ~ 21/02/2022</td>\n",
       "    </tr>\n",
       "    <tr>\n",
       "      <th>5</th>\n",
       "      <td>藍田安田邨安麗樓 \\nOn Lai House, On Tin Estate, Lam Tin</td>\n",
       "      <td>19/02/2022 ~ 21/02/2022</td>\n",
       "    </tr>\n",
       "    <tr>\n",
       "      <th>...</th>\n",
       "      <td>...</td>\n",
       "      <td>...</td>\n",
       "    </tr>\n",
       "    <tr>\n",
       "      <th>14</th>\n",
       "      <td>石硤尾石硤尾邨 21 座 \\nBlock 21, Shek Kip Mei Estate, ...</td>\n",
       "      <td>21/02/2022 ~ 22/02/2022 \\n23/02/2022 ~ 25/02/2022</td>\n",
       "    </tr>\n",
       "    <tr>\n",
       "      <th>15</th>\n",
       "      <td>沙田禾輋邨景和樓 \\nKing Wo House, Wo Che Estate, Sha Tin</td>\n",
       "      <td>21/02/2022 ~ 22/02/2022 \\n23/02/2022 ~ 25/02/2022</td>\n",
       "    </tr>\n",
       "    <tr>\n",
       "      <th>16</th>\n",
       "      <td>屯門育康街 8 號慧景閣 \\nParkview Court, 8 Yuk Hong Stre...</td>\n",
       "      <td>20/02/2022 ~ 22/02/2022 \\n23/02/2022 ~ 25/02/2022</td>\n",
       "    </tr>\n",
       "    <tr>\n",
       "      <th>17</th>\n",
       "      <td>粉嶺牽晴間 10 座 \\nBlock 10, Dawning Views, Fanling</td>\n",
       "      <td>20/02/2022 ~ 22/02/2022 \\n23/02/2022 ~ 25/02/2022</td>\n",
       "    </tr>\n",
       "    <tr>\n",
       "      <th>18</th>\n",
       "      <td>荃灣荃景花園 9 座 \\nBlock 9, Tsuen King Garden, Tsuen...</td>\n",
       "      <td>20/02/2022 ~ 22/02/2022 \\n23/02/2022 ~ 25/02/2022</td>\n",
       "    </tr>\n",
       "  </tbody>\n",
       "</table>\n",
       "<p>140 rows × 2 columns</p>\n",
       "</div>"
      ],
      "text/plain": [
       "                                   Specified_Premises  \\\n",
       "1   沙田利安邨利盛樓（不包括位於地下 A 及 B 翼的香港神託會培\\n真幼稚園） \\nLee S...   \n",
       "2   東涌滿東邨滿和樓 \\nMun Wo House, Mun Tung Estate, Tung...   \n",
       "3   慈雲山慈樂邨樂誠樓 \\nLok Shing House, Tsz Lok Estate, T...   \n",
       "4   鑽石山鳳德邨紫鳳樓 \\nTsz Fung House, Fung Tak Estate, D...   \n",
       "5     藍田安田邨安麗樓 \\nOn Lai House, On Tin Estate, Lam Tin   \n",
       "..                                                ...   \n",
       "14  石硤尾石硤尾邨 21 座 \\nBlock 21, Shek Kip Mei Estate, ...   \n",
       "15   沙田禾輋邨景和樓 \\nKing Wo House, Wo Che Estate, Sha Tin   \n",
       "16  屯門育康街 8 號慧景閣 \\nParkview Court, 8 Yuk Hong Stre...   \n",
       "17      粉嶺牽晴間 10 座 \\nBlock 10, Dawning Views, Fanling   \n",
       "18  荃灣荃景花園 9 座 \\nBlock 9, Tsuen King Garden, Tsuen...   \n",
       "\n",
       "                                     Dates_of_Testing  \n",
       "1                             20/02/2022 ~ 22/02/2022  \n",
       "2                             19/02/2022 ~ 21/02/2022  \n",
       "3                             19/02/2022 ~ 21/02/2022  \n",
       "4                             19/02/2022 ~ 21/02/2022  \n",
       "5                             19/02/2022 ~ 21/02/2022  \n",
       "..                                                ...  \n",
       "14  21/02/2022 ~ 22/02/2022 \\n23/02/2022 ~ 25/02/2022  \n",
       "15  21/02/2022 ~ 22/02/2022 \\n23/02/2022 ~ 25/02/2022  \n",
       "16  20/02/2022 ~ 22/02/2022 \\n23/02/2022 ~ 25/02/2022  \n",
       "17  20/02/2022 ~ 22/02/2022 \\n23/02/2022 ~ 25/02/2022  \n",
       "18  20/02/2022 ~ 22/02/2022 \\n23/02/2022 ~ 25/02/2022  \n",
       "\n",
       "[140 rows x 2 columns]"
      ]
     },
     "execution_count": 16,
     "metadata": {},
     "output_type": "execute_result"
    }
   ],
   "source": [
    "# Display header of dataframe.\n",
    "data_final_2"
   ]
  },
  {
   "cell_type": "code",
   "execution_count": 17,
   "id": "feba7ac6",
   "metadata": {},
   "outputs": [
    {
     "name": "stdout",
     "output_type": "stream",
     "text": [
      "21/02/2022\n"
     ]
    }
   ],
   "source": [
    "# Define the variable for the date string.\n",
    "today = date.today()\n",
    "today_a = today.strftime(\"%d/%m/%Y\")\n",
    "print(today_a)"
   ]
  },
  {
   "cell_type": "code",
   "execution_count": 18,
   "id": "6a256baa",
   "metadata": {},
   "outputs": [],
   "source": [
    "# Filter dataframe by the specific name of district (Tai Po) and date (today).\n",
    "data_final_Tai_Po_Today = data_final_2[(data_final_2['Specified_Premises'].str.contains(\"Tai Po\")) & \n",
    "                                        data_final_2['Dates_of_Testing'].str.contains(str(today_a))]"
   ]
  },
  {
   "cell_type": "code",
   "execution_count": 19,
   "id": "4b232b17",
   "metadata": {},
   "outputs": [
    {
     "data": {
      "text/html": [
       "<div>\n",
       "<style scoped>\n",
       "    .dataframe tbody tr th:only-of-type {\n",
       "        vertical-align: middle;\n",
       "    }\n",
       "\n",
       "    .dataframe tbody tr th {\n",
       "        vertical-align: top;\n",
       "    }\n",
       "\n",
       "    .dataframe thead th {\n",
       "        text-align: right;\n",
       "    }\n",
       "</style>\n",
       "<table border=\"1\" class=\"dataframe\">\n",
       "  <thead>\n",
       "    <tr style=\"text-align: right;\">\n",
       "      <th></th>\n",
       "      <th>Specified_Premises</th>\n",
       "      <th>Dates_of_Testing</th>\n",
       "    </tr>\n",
       "  </thead>\n",
       "  <tbody>\n",
       "    <tr>\n",
       "      <th>8</th>\n",
       "      <td>大埔富善邨善美樓 \\nShin Mei House, Fu Shin Estate, Tai Po</td>\n",
       "      <td>19/02/2022 ~ 21/02/2022 \\n22/02/2022 ~ 24/02/2022</td>\n",
       "    </tr>\n",
       "    <tr>\n",
       "      <th>3</th>\n",
       "      <td>大埔富善邨善群樓 \\nShin Kwan House, Fu Shin Estate, Ta...</td>\n",
       "      <td>19/02/2022 ~ 21/02/2022 \\n22/02/2022 ~ 24/02/2022</td>\n",
       "    </tr>\n",
       "    <tr>\n",
       "      <th>8</th>\n",
       "      <td>大埔富亨邨亨耀樓 \\nHeng Yiu House, Fu Heng Estate, Tai Po</td>\n",
       "      <td>19/02/2022 ~ 21/02/2022 \\n22/02/2022 ~ 24/02/2022</td>\n",
       "    </tr>\n",
       "  </tbody>\n",
       "</table>\n",
       "</div>"
      ],
      "text/plain": [
       "                                  Specified_Premises  \\\n",
       "8  大埔富善邨善美樓 \\nShin Mei House, Fu Shin Estate, Tai Po   \n",
       "3  大埔富善邨善群樓 \\nShin Kwan House, Fu Shin Estate, Ta...   \n",
       "8  大埔富亨邨亨耀樓 \\nHeng Yiu House, Fu Heng Estate, Tai Po   \n",
       "\n",
       "                                    Dates_of_Testing  \n",
       "8  19/02/2022 ~ 21/02/2022 \\n22/02/2022 ~ 24/02/2022  \n",
       "3  19/02/2022 ~ 21/02/2022 \\n22/02/2022 ~ 24/02/2022  \n",
       "8  19/02/2022 ~ 21/02/2022 \\n22/02/2022 ~ 24/02/2022  "
      ]
     },
     "execution_count": 19,
     "metadata": {},
     "output_type": "execute_result"
    }
   ],
   "source": [
    "# Display header of dataframe.\n",
    "data_final_Tai_Po_Today"
   ]
  },
  {
   "cell_type": "code",
   "execution_count": 20,
   "id": "8f77b286",
   "metadata": {},
   "outputs": [],
   "source": [
    "# Filter dataframe by the specific name of district (Tsuen Wan) and date (today).\n",
    "data_final_Tsuen_Wan_Today = data_final_2[(data_final_2['Specified_Premises'].str.contains(\"Tsuen Wan\")) & \n",
    "                                        data_final_2['Dates_of_Testing'].str.contains(str(today_a))]"
   ]
  },
  {
   "cell_type": "code",
   "execution_count": 21,
   "id": "7226e57d",
   "metadata": {},
   "outputs": [
    {
     "data": {
      "text/html": [
       "<div>\n",
       "<style scoped>\n",
       "    .dataframe tbody tr th:only-of-type {\n",
       "        vertical-align: middle;\n",
       "    }\n",
       "\n",
       "    .dataframe tbody tr th {\n",
       "        vertical-align: top;\n",
       "    }\n",
       "\n",
       "    .dataframe thead th {\n",
       "        text-align: right;\n",
       "    }\n",
       "</style>\n",
       "<table border=\"1\" class=\"dataframe\">\n",
       "  <thead>\n",
       "    <tr style=\"text-align: right;\">\n",
       "      <th></th>\n",
       "      <th>Specified_Premises</th>\n",
       "      <th>Dates_of_Testing</th>\n",
       "    </tr>\n",
       "  </thead>\n",
       "  <tbody>\n",
       "    <tr>\n",
       "      <th>2</th>\n",
       "      <td>荃灣綠楊新邨 F 座 \\nBlock F, Luk Yeung Sun Chuen, Tsu...</td>\n",
       "      <td>21/02/2022 ~ 23/02/2022</td>\n",
       "    </tr>\n",
       "  </tbody>\n",
       "</table>\n",
       "</div>"
      ],
      "text/plain": [
       "                                  Specified_Premises         Dates_of_Testing\n",
       "2  荃灣綠楊新邨 F 座 \\nBlock F, Luk Yeung Sun Chuen, Tsu...  21/02/2022 ~ 23/02/2022"
      ]
     },
     "execution_count": 21,
     "metadata": {},
     "output_type": "execute_result"
    }
   ],
   "source": [
    "# Display header of dataframe.\n",
    "data_final_Tsuen_Wan_Today"
   ]
  }
 ],
 "metadata": {
  "kernelspec": {
   "display_name": "Python 3 (ipykernel)",
   "language": "python",
   "name": "python3"
  },
  "language_info": {
   "codemirror_mode": {
    "name": "ipython",
    "version": 3
   },
   "file_extension": ".py",
   "mimetype": "text/x-python",
   "name": "python",
   "nbconvert_exporter": "python",
   "pygments_lexer": "ipython3",
   "version": "3.9.7"
  }
 },
 "nbformat": 4,
 "nbformat_minor": 5
}
