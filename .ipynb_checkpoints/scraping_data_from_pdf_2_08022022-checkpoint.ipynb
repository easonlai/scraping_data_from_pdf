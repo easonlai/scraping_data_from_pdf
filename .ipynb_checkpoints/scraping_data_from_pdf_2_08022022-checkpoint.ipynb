{
 "cells": [
  {
   "cell_type": "code",
   "execution_count": 1,
   "id": "a0561365",
   "metadata": {},
   "outputs": [],
   "source": [
    "# Import necessary libraries.\n",
    "import requests\n",
    "import camelot\n",
    "import pandas as pd\n",
    "from datetime import date, timedelta"
   ]
  },
  {
   "cell_type": "code",
   "execution_count": 2,
   "id": "a6f25c4c",
   "metadata": {},
   "outputs": [
    {
     "name": "stdout",
     "output_type": "stream",
     "text": [
      "20220207\n"
     ]
    }
   ],
   "source": [
    "# Define the variable for the date string.\n",
    "yesterday = date.today() - timedelta(days=1)\n",
    "yesterday_a = yesterday.strftime('%Y%m%d')\n",
    "print(yesterday_a)"
   ]
  },
  {
   "cell_type": "code",
   "execution_count": 3,
   "id": "b4921338",
   "metadata": {},
   "outputs": [
    {
     "data": {
      "text/plain": [
       "832457"
      ]
     },
     "execution_count": 3,
     "metadata": {},
     "output_type": "execute_result"
    }
   ],
   "source": [
    "# Download source latest PDF file \"Details of Compulsory Testing Notice (G.N. (E.) 192 of 2022)\"\n",
    "# from www.chp.gov.hk. https://www.chp.gov.hk/en/features/105294.html\n",
    "\n",
    "url_path = 'https://www.chp.gov.hk/files/pdf/ctn_' + yesterday_a + '.pdf'\n",
    "url = url_path\n",
    "r = requests.get(url, allow_redirects=True)\n",
    "\n",
    "file_path = 'data/ctn_' + yesterday_a + '.pdf'\n",
    "open(file_path, 'wb').write(r.content)"
   ]
  },
  {
   "cell_type": "code",
   "execution_count": 4,
   "id": "02d36794",
   "metadata": {},
   "outputs": [],
   "source": [
    "# Define the source PDF file path.\n",
    "source_file = file_path"
   ]
  },
  {
   "cell_type": "code",
   "execution_count": 5,
   "id": "dec6d8fe",
   "metadata": {},
   "outputs": [],
   "source": [
    "# Extract all tables from all pages in a PDF file.\n",
    "data_tables = camelot.read_pdf(source_file, pages='all')"
   ]
  },
  {
   "cell_type": "code",
   "execution_count": 6,
   "id": "133cdd3b",
   "metadata": {},
   "outputs": [
    {
     "name": "stdout",
     "output_type": "stream",
     "text": [
      "Total Number of Tables Being Extracted: 23\n"
     ]
    }
   ],
   "source": [
    "# Print the number or tables are bthat eing extracted.\n",
    "print(\"Total Number of Tables Being Extracted:\", data_tables.n)"
   ]
  },
  {
   "cell_type": "code",
   "execution_count": 7,
   "id": "d360a252",
   "metadata": {},
   "outputs": [],
   "source": [
    "# Parse all extract tables into a single list.\n",
    "data_list = []\n",
    "\n",
    "for t in range(data_tables.n):\n",
    "    data = data_tables[t].df\n",
    "    data_list.append(data)"
   ]
  },
  {
   "cell_type": "code",
   "execution_count": 8,
   "id": "3c4cd88a",
   "metadata": {},
   "outputs": [],
   "source": [
    "# Convert list into Pandas dataframe.\n",
    "data_final_1 = pd.concat(data_list, ignore_index=False, sort=False)"
   ]
  },
  {
   "cell_type": "code",
   "execution_count": 9,
   "id": "53486742",
   "metadata": {},
   "outputs": [],
   "source": [
    "# Change the dataframe column headers.\n",
    "data_final_1.columns = ['Number', 'Specified_Place', 'Specified_Datetimes_Periods', 'Required_Testing_Dates']"
   ]
  },
  {
   "cell_type": "code",
   "execution_count": 10,
   "id": "f9405309",
   "metadata": {},
   "outputs": [
    {
     "data": {
      "text/html": [
       "<div>\n",
       "<style scoped>\n",
       "    .dataframe tbody tr th:only-of-type {\n",
       "        vertical-align: middle;\n",
       "    }\n",
       "\n",
       "    .dataframe tbody tr th {\n",
       "        vertical-align: top;\n",
       "    }\n",
       "\n",
       "    .dataframe thead th {\n",
       "        text-align: right;\n",
       "    }\n",
       "</style>\n",
       "<table border=\"1\" class=\"dataframe\">\n",
       "  <thead>\n",
       "    <tr style=\"text-align: right;\">\n",
       "      <th></th>\n",
       "      <th>Number</th>\n",
       "      <th>Specified_Place</th>\n",
       "      <th>Specified_Datetimes_Periods</th>\n",
       "      <th>Required_Testing_Dates</th>\n",
       "    </tr>\n",
       "  </thead>\n",
       "  <tbody>\n",
       "    <tr>\n",
       "      <th>0</th>\n",
       "      <td></td>\n",
       "      <td>指明地點 \\nSpecified place</td>\n",
       "      <td>指明期間及時段 \\n(視情況而定任何一個 \\n期間及時段) \\n[年年年年-月月-日日] \\...</td>\n",
       "      <td>須進行檢測日期 \\n[年年年年-月月-日日] \\nRequired testing date...</td>\n",
       "    </tr>\n",
       "    <tr>\n",
       "      <th>1</th>\n",
       "      <td>1.</td>\n",
       "      <td>九龍灣德福花園 M2 座 \\nBlock M2, Telford Gardens, \\nKo...</td>\n",
       "      <td>(\\n2022-01-25 ~ 2022-02-07 \\n曾身處指明場所超過兩\\n小時) \\...</td>\n",
       "      <td>(1) 2022-02-07 ~ 2022-02-09 \\n(2) 2022-02-10 ~...</td>\n",
       "    </tr>\n",
       "    <tr>\n",
       "      <th>2</th>\n",
       "      <td>2.</td>\n",
       "      <td>深水埗福榮街 92-98 號常\\n福大廈 \\nSheung  Fook  Building,...</td>\n",
       "      <td>(\\n2022-01-25 ~ 2022-02-07 \\n曾身處指明場所超過兩\\n小時) \\...</td>\n",
       "      <td></td>\n",
       "    </tr>\n",
       "    <tr>\n",
       "      <th>0</th>\n",
       "      <td></td>\n",
       "      <td>指明地點 \\nSpecified place</td>\n",
       "      <td>指明期間及時段 \\n(視情況而定任何一個 \\n期間及時段) \\n[年年年年-月月-日日] \\...</td>\n",
       "      <td>須進行檢測日期 \\n[年年年年-月月-日日] \\nRequired testing date...</td>\n",
       "    </tr>\n",
       "    <tr>\n",
       "      <th>1</th>\n",
       "      <td>3.</td>\n",
       "      <td>將軍澳峻瀅 1 座 \\nTower  1,  The  Beaumount, \\nTseun...</td>\n",
       "      <td>(\\n2022-01-25 ~ 2022-02-07 \\n曾身處指明場所超過兩\\n小時) \\...</td>\n",
       "      <td>(1) 2022-02-07 ~ 2022-02-09 \\n(2) 2022-02-10 ~...</td>\n",
       "    </tr>\n",
       "    <tr>\n",
       "      <th>...</th>\n",
       "      <td>...</td>\n",
       "      <td>...</td>\n",
       "      <td>...</td>\n",
       "      <td>...</td>\n",
       "    </tr>\n",
       "    <tr>\n",
       "      <th>2</th>\n",
       "      <td>9</td>\n",
       "      <td>九龍城德朗邨德瑤樓 \\nTak Yiu House, Tak Long \\nEstate, ...</td>\n",
       "      <td>2022-01-25 ~ 2022-02-07 \\n(曾身處指明場所超過兩\\n小時) \\n(...</td>\n",
       "      <td>2022-02-07 ~ 2022-02-09</td>\n",
       "    </tr>\n",
       "    <tr>\n",
       "      <th>3</th>\n",
       "      <td>10</td>\n",
       "      <td>九龍城德朗邨德瓏樓 \\nTak Loong House, Tak \\nLong Estate...</td>\n",
       "      <td>2022-01-25 ~ 2022-02-07 \\n(曾身處指明場所超過兩\\n小時) \\n(...</td>\n",
       "      <td>2022-02-07 ~ 2022-02-09</td>\n",
       "    </tr>\n",
       "    <tr>\n",
       "      <th>4</th>\n",
       "      <td>11</td>\n",
       "      <td>九龍城德朗邨德瑩樓 \\nTak Ying House, Tak Long \\nEstate,...</td>\n",
       "      <td>2022-01-25 ~ 2022-02-07 \\n(曾身處指明場所超過兩\\n小時) \\n(...</td>\n",
       "      <td>2022-02-07 ~ 2022-02-09</td>\n",
       "    </tr>\n",
       "    <tr>\n",
       "      <th>0</th>\n",
       "      <td></td>\n",
       "      <td>指明地點 \\nSpecified place</td>\n",
       "      <td>指明期間及時段 \\n(視情況而定任何一個 \\n期間及時段) \\n[年年年年-月月-日日] \\...</td>\n",
       "      <td>須進行檢測日期 \\n[年年年年-月月-日日] \\nRequired testing date...</td>\n",
       "    </tr>\n",
       "    <tr>\n",
       "      <th>1</th>\n",
       "      <td>12</td>\n",
       "      <td>h\\n黃大仙鳴鳳街 20-64 號(雙\\n數街號)、鳳凰大樓、翠\\n鳳街 1-68 號、沙田...</td>\n",
       "      <td>2022-01-25 ~ 2022-02-07 \\n(曾身處指明場所超過兩\\n小時) \\n(...</td>\n",
       "      <td>2022-02-07 ~ 2022-02-09</td>\n",
       "    </tr>\n",
       "  </tbody>\n",
       "</table>\n",
       "<p>108 rows × 4 columns</p>\n",
       "</div>"
      ],
      "text/plain": [
       "   Number                                    Specified_Place  \\\n",
       "0                                     指明地點 \\nSpecified place   \n",
       "1      1.  九龍灣德福花園 M2 座 \\nBlock M2, Telford Gardens, \\nKo...   \n",
       "2      2.  深水埗福榮街 92-98 號常\\n福大廈 \\nSheung  Fook  Building,...   \n",
       "0                                     指明地點 \\nSpecified place   \n",
       "1      3.  將軍澳峻瀅 1 座 \\nTower  1,  The  Beaumount, \\nTseun...   \n",
       "..    ...                                                ...   \n",
       "2       9  九龍城德朗邨德瑤樓 \\nTak Yiu House, Tak Long \\nEstate, ...   \n",
       "3      10  九龍城德朗邨德瓏樓 \\nTak Loong House, Tak \\nLong Estate...   \n",
       "4      11  九龍城德朗邨德瑩樓 \\nTak Ying House, Tak Long \\nEstate,...   \n",
       "0                                     指明地點 \\nSpecified place   \n",
       "1      12  h\\n黃大仙鳴鳳街 20-64 號(雙\\n數街號)、鳳凰大樓、翠\\n鳳街 1-68 號、沙田...   \n",
       "\n",
       "                          Specified_Datetimes_Periods  \\\n",
       "0   指明期間及時段 \\n(視情況而定任何一個 \\n期間及時段) \\n[年年年年-月月-日日] \\...   \n",
       "1   (\\n2022-01-25 ~ 2022-02-07 \\n曾身處指明場所超過兩\\n小時) \\...   \n",
       "2   (\\n2022-01-25 ~ 2022-02-07 \\n曾身處指明場所超過兩\\n小時) \\...   \n",
       "0   指明期間及時段 \\n(視情況而定任何一個 \\n期間及時段) \\n[年年年年-月月-日日] \\...   \n",
       "1   (\\n2022-01-25 ~ 2022-02-07 \\n曾身處指明場所超過兩\\n小時) \\...   \n",
       "..                                                ...   \n",
       "2   2022-01-25 ~ 2022-02-07 \\n(曾身處指明場所超過兩\\n小時) \\n(...   \n",
       "3   2022-01-25 ~ 2022-02-07 \\n(曾身處指明場所超過兩\\n小時) \\n(...   \n",
       "4   2022-01-25 ~ 2022-02-07 \\n(曾身處指明場所超過兩\\n小時) \\n(...   \n",
       "0   指明期間及時段 \\n(視情況而定任何一個 \\n期間及時段) \\n[年年年年-月月-日日] \\...   \n",
       "1   2022-01-25 ~ 2022-02-07 \\n(曾身處指明場所超過兩\\n小時) \\n(...   \n",
       "\n",
       "                               Required_Testing_Dates  \n",
       "0   須進行檢測日期 \\n[年年年年-月月-日日] \\nRequired testing date...  \n",
       "1   (1) 2022-02-07 ~ 2022-02-09 \\n(2) 2022-02-10 ~...  \n",
       "2                                                      \n",
       "0   須進行檢測日期 \\n[年年年年-月月-日日] \\nRequired testing date...  \n",
       "1   (1) 2022-02-07 ~ 2022-02-09 \\n(2) 2022-02-10 ~...  \n",
       "..                                                ...  \n",
       "2                             2022-02-07 ~ 2022-02-09  \n",
       "3                             2022-02-07 ~ 2022-02-09  \n",
       "4                             2022-02-07 ~ 2022-02-09  \n",
       "0   須進行檢測日期 \\n[年年年年-月月-日日] \\nRequired testing date...  \n",
       "1                             2022-02-07 ~ 2022-02-09  \n",
       "\n",
       "[108 rows x 4 columns]"
      ]
     },
     "execution_count": 10,
     "metadata": {},
     "output_type": "execute_result"
    }
   ],
   "source": [
    "# Display header of dataframe.\n",
    "data_final_1"
   ]
  },
  {
   "cell_type": "code",
   "execution_count": 11,
   "id": "037c6496",
   "metadata": {},
   "outputs": [],
   "source": [
    "# Erase unnecessary rows from the dataframe.\n",
    "data_final_2 = data_final_1[data_final_1.Specified_Place != '指明地點 \\nSpecified place']"
   ]
  },
  {
   "cell_type": "code",
   "execution_count": 12,
   "id": "002f5d71",
   "metadata": {},
   "outputs": [
    {
     "data": {
      "text/html": [
       "<div>\n",
       "<style scoped>\n",
       "    .dataframe tbody tr th:only-of-type {\n",
       "        vertical-align: middle;\n",
       "    }\n",
       "\n",
       "    .dataframe tbody tr th {\n",
       "        vertical-align: top;\n",
       "    }\n",
       "\n",
       "    .dataframe thead th {\n",
       "        text-align: right;\n",
       "    }\n",
       "</style>\n",
       "<table border=\"1\" class=\"dataframe\">\n",
       "  <thead>\n",
       "    <tr style=\"text-align: right;\">\n",
       "      <th></th>\n",
       "      <th>Number</th>\n",
       "      <th>Specified_Place</th>\n",
       "      <th>Specified_Datetimes_Periods</th>\n",
       "      <th>Required_Testing_Dates</th>\n",
       "    </tr>\n",
       "  </thead>\n",
       "  <tbody>\n",
       "    <tr>\n",
       "      <th>1</th>\n",
       "      <td>1.</td>\n",
       "      <td>九龍灣德福花園 M2 座 \\nBlock M2, Telford Gardens, \\nKo...</td>\n",
       "      <td>(\\n2022-01-25 ~ 2022-02-07 \\n曾身處指明場所超過兩\\n小時) \\...</td>\n",
       "      <td>(1) 2022-02-07 ~ 2022-02-09 \\n(2) 2022-02-10 ~...</td>\n",
       "    </tr>\n",
       "    <tr>\n",
       "      <th>2</th>\n",
       "      <td>2.</td>\n",
       "      <td>深水埗福榮街 92-98 號常\\n福大廈 \\nSheung  Fook  Building,...</td>\n",
       "      <td>(\\n2022-01-25 ~ 2022-02-07 \\n曾身處指明場所超過兩\\n小時) \\...</td>\n",
       "      <td></td>\n",
       "    </tr>\n",
       "    <tr>\n",
       "      <th>1</th>\n",
       "      <td>3.</td>\n",
       "      <td>將軍澳峻瀅 1 座 \\nTower  1,  The  Beaumount, \\nTseun...</td>\n",
       "      <td>(\\n2022-01-25 ~ 2022-02-07 \\n曾身處指明場所超過兩\\n小時) \\...</td>\n",
       "      <td>(1) 2022-02-07 ~ 2022-02-09 \\n(2) 2022-02-10 ~...</td>\n",
       "    </tr>\n",
       "    <tr>\n",
       "      <th>2</th>\n",
       "      <td>4.</td>\n",
       "      <td>九龍灣麗晶花園 13 座 \\nBlock \\n13, \\nRichland \\nGarden...</td>\n",
       "      <td>(\\n2022-01-25 ~ 2022-02-07 \\n曾身處指明場所超過兩\\n小時) \\...</td>\n",
       "      <td></td>\n",
       "    </tr>\n",
       "    <tr>\n",
       "      <th>3</th>\n",
       "      <td>5.</td>\n",
       "      <td>馬鞍山富寶花園 9 座 \\nBlock \\n9, \\nSaddle \\nRidge \\nGa...</td>\n",
       "      <td>(\\n2022-01-25 ~ 2022-02-07 \\n曾身處指明場所超過兩\\n小時) \\...</td>\n",
       "      <td></td>\n",
       "    </tr>\n",
       "    <tr>\n",
       "      <th>...</th>\n",
       "      <td>...</td>\n",
       "      <td>...</td>\n",
       "      <td>...</td>\n",
       "      <td>...</td>\n",
       "    </tr>\n",
       "    <tr>\n",
       "      <th>1</th>\n",
       "      <td>8</td>\n",
       "      <td>油塘油麗邨豐麗樓 \\nFung Lai House, Yau Lai \\nEstate, Y...</td>\n",
       "      <td>2022-01-25 ~ 2022-02-07 \\n(曾身處指明場所超過兩\\n小時) \\n(...</td>\n",
       "      <td>2022-02-07 ~ 2022-02-09</td>\n",
       "    </tr>\n",
       "    <tr>\n",
       "      <th>2</th>\n",
       "      <td>9</td>\n",
       "      <td>九龍城德朗邨德瑤樓 \\nTak Yiu House, Tak Long \\nEstate, ...</td>\n",
       "      <td>2022-01-25 ~ 2022-02-07 \\n(曾身處指明場所超過兩\\n小時) \\n(...</td>\n",
       "      <td>2022-02-07 ~ 2022-02-09</td>\n",
       "    </tr>\n",
       "    <tr>\n",
       "      <th>3</th>\n",
       "      <td>10</td>\n",
       "      <td>九龍城德朗邨德瓏樓 \\nTak Loong House, Tak \\nLong Estate...</td>\n",
       "      <td>2022-01-25 ~ 2022-02-07 \\n(曾身處指明場所超過兩\\n小時) \\n(...</td>\n",
       "      <td>2022-02-07 ~ 2022-02-09</td>\n",
       "    </tr>\n",
       "    <tr>\n",
       "      <th>4</th>\n",
       "      <td>11</td>\n",
       "      <td>九龍城德朗邨德瑩樓 \\nTak Ying House, Tak Long \\nEstate,...</td>\n",
       "      <td>2022-01-25 ~ 2022-02-07 \\n(曾身處指明場所超過兩\\n小時) \\n(...</td>\n",
       "      <td>2022-02-07 ~ 2022-02-09</td>\n",
       "    </tr>\n",
       "    <tr>\n",
       "      <th>1</th>\n",
       "      <td>12</td>\n",
       "      <td>h\\n黃大仙鳴鳳街 20-64 號(雙\\n數街號)、鳳凰大樓、翠\\n鳳街 1-68 號、沙田...</td>\n",
       "      <td>2022-01-25 ~ 2022-02-07 \\n(曾身處指明場所超過兩\\n小時) \\n(...</td>\n",
       "      <td>2022-02-07 ~ 2022-02-09</td>\n",
       "    </tr>\n",
       "  </tbody>\n",
       "</table>\n",
       "<p>85 rows × 4 columns</p>\n",
       "</div>"
      ],
      "text/plain": [
       "   Number                                    Specified_Place  \\\n",
       "1      1.  九龍灣德福花園 M2 座 \\nBlock M2, Telford Gardens, \\nKo...   \n",
       "2      2.  深水埗福榮街 92-98 號常\\n福大廈 \\nSheung  Fook  Building,...   \n",
       "1      3.  將軍澳峻瀅 1 座 \\nTower  1,  The  Beaumount, \\nTseun...   \n",
       "2      4.  九龍灣麗晶花園 13 座 \\nBlock \\n13, \\nRichland \\nGarden...   \n",
       "3      5.  馬鞍山富寶花園 9 座 \\nBlock \\n9, \\nSaddle \\nRidge \\nGa...   \n",
       "..    ...                                                ...   \n",
       "1       8  油塘油麗邨豐麗樓 \\nFung Lai House, Yau Lai \\nEstate, Y...   \n",
       "2       9  九龍城德朗邨德瑤樓 \\nTak Yiu House, Tak Long \\nEstate, ...   \n",
       "3      10  九龍城德朗邨德瓏樓 \\nTak Loong House, Tak \\nLong Estate...   \n",
       "4      11  九龍城德朗邨德瑩樓 \\nTak Ying House, Tak Long \\nEstate,...   \n",
       "1      12  h\\n黃大仙鳴鳳街 20-64 號(雙\\n數街號)、鳳凰大樓、翠\\n鳳街 1-68 號、沙田...   \n",
       "\n",
       "                          Specified_Datetimes_Periods  \\\n",
       "1   (\\n2022-01-25 ~ 2022-02-07 \\n曾身處指明場所超過兩\\n小時) \\...   \n",
       "2   (\\n2022-01-25 ~ 2022-02-07 \\n曾身處指明場所超過兩\\n小時) \\...   \n",
       "1   (\\n2022-01-25 ~ 2022-02-07 \\n曾身處指明場所超過兩\\n小時) \\...   \n",
       "2   (\\n2022-01-25 ~ 2022-02-07 \\n曾身處指明場所超過兩\\n小時) \\...   \n",
       "3   (\\n2022-01-25 ~ 2022-02-07 \\n曾身處指明場所超過兩\\n小時) \\...   \n",
       "..                                                ...   \n",
       "1   2022-01-25 ~ 2022-02-07 \\n(曾身處指明場所超過兩\\n小時) \\n(...   \n",
       "2   2022-01-25 ~ 2022-02-07 \\n(曾身處指明場所超過兩\\n小時) \\n(...   \n",
       "3   2022-01-25 ~ 2022-02-07 \\n(曾身處指明場所超過兩\\n小時) \\n(...   \n",
       "4   2022-01-25 ~ 2022-02-07 \\n(曾身處指明場所超過兩\\n小時) \\n(...   \n",
       "1   2022-01-25 ~ 2022-02-07 \\n(曾身處指明場所超過兩\\n小時) \\n(...   \n",
       "\n",
       "                               Required_Testing_Dates  \n",
       "1   (1) 2022-02-07 ~ 2022-02-09 \\n(2) 2022-02-10 ~...  \n",
       "2                                                      \n",
       "1   (1) 2022-02-07 ~ 2022-02-09 \\n(2) 2022-02-10 ~...  \n",
       "2                                                      \n",
       "3                                                      \n",
       "..                                                ...  \n",
       "1                             2022-02-07 ~ 2022-02-09  \n",
       "2                             2022-02-07 ~ 2022-02-09  \n",
       "3                             2022-02-07 ~ 2022-02-09  \n",
       "4                             2022-02-07 ~ 2022-02-09  \n",
       "1                             2022-02-07 ~ 2022-02-09  \n",
       "\n",
       "[85 rows x 4 columns]"
      ]
     },
     "execution_count": 12,
     "metadata": {},
     "output_type": "execute_result"
    }
   ],
   "source": [
    "# Display header of dataframe.\n",
    "data_final_2"
   ]
  },
  {
   "cell_type": "code",
   "execution_count": 13,
   "id": "feba7ac6",
   "metadata": {},
   "outputs": [
    {
     "name": "stdout",
     "output_type": "stream",
     "text": [
      "2022-02-07\n"
     ]
    }
   ],
   "source": [
    "# Define the variable for the date string.\n",
    "yesterday = date.today() - timedelta(days=1)\n",
    "yesterday_b = yesterday.strftime('%Y-%m-%d')\n",
    "print(yesterday_b)"
   ]
  },
  {
   "cell_type": "code",
   "execution_count": 14,
   "id": "6a256baa",
   "metadata": {},
   "outputs": [],
   "source": [
    "# Filter dataframe by the specific name of district (Tai Po) and date (today).\n",
    "data_final_Tai_Po_Yesterday = data_final_2[(data_final_2['Specified_Place'].str.contains(\"Tai Po\")) & \n",
    "                                        data_final_2['Specified_Datetimes_Periods'].str.contains(yesterday_b)]"
   ]
  },
  {
   "cell_type": "code",
   "execution_count": 15,
   "id": "4b232b17",
   "metadata": {},
   "outputs": [
    {
     "data": {
      "text/html": [
       "<div>\n",
       "<style scoped>\n",
       "    .dataframe tbody tr th:only-of-type {\n",
       "        vertical-align: middle;\n",
       "    }\n",
       "\n",
       "    .dataframe tbody tr th {\n",
       "        vertical-align: top;\n",
       "    }\n",
       "\n",
       "    .dataframe thead th {\n",
       "        text-align: right;\n",
       "    }\n",
       "</style>\n",
       "<table border=\"1\" class=\"dataframe\">\n",
       "  <thead>\n",
       "    <tr style=\"text-align: right;\">\n",
       "      <th></th>\n",
       "      <th>Number</th>\n",
       "      <th>Specified_Place</th>\n",
       "      <th>Specified_Datetimes_Periods</th>\n",
       "      <th>Required_Testing_Dates</th>\n",
       "    </tr>\n",
       "  </thead>\n",
       "  <tbody>\n",
       "  </tbody>\n",
       "</table>\n",
       "</div>"
      ],
      "text/plain": [
       "Empty DataFrame\n",
       "Columns: [Number, Specified_Place, Specified_Datetimes_Periods, Required_Testing_Dates]\n",
       "Index: []"
      ]
     },
     "execution_count": 15,
     "metadata": {},
     "output_type": "execute_result"
    }
   ],
   "source": [
    "# Display header of dataframe.\n",
    "data_final_Tai_Po_Yesterday"
   ]
  },
  {
   "cell_type": "code",
   "execution_count": 16,
   "id": "8f77b286",
   "metadata": {},
   "outputs": [],
   "source": [
    "# Filter dataframe by the specific name of district (Tsuen Wan) and date (today).\n",
    "data_final_Tsuen_Wan_Yesterday = data_final_2[(data_final_2['Specified_Place'].str.contains(\"Tsuen Wan\")) & \n",
    "                                        data_final_2['Specified_Datetimes_Periods'].str.contains(yesterday_b)]"
   ]
  },
  {
   "cell_type": "code",
   "execution_count": 17,
   "id": "7226e57d",
   "metadata": {},
   "outputs": [
    {
     "data": {
      "text/html": [
       "<div>\n",
       "<style scoped>\n",
       "    .dataframe tbody tr th:only-of-type {\n",
       "        vertical-align: middle;\n",
       "    }\n",
       "\n",
       "    .dataframe tbody tr th {\n",
       "        vertical-align: top;\n",
       "    }\n",
       "\n",
       "    .dataframe thead th {\n",
       "        text-align: right;\n",
       "    }\n",
       "</style>\n",
       "<table border=\"1\" class=\"dataframe\">\n",
       "  <thead>\n",
       "    <tr style=\"text-align: right;\">\n",
       "      <th></th>\n",
       "      <th>Number</th>\n",
       "      <th>Specified_Place</th>\n",
       "      <th>Specified_Datetimes_Periods</th>\n",
       "      <th>Required_Testing_Dates</th>\n",
       "    </tr>\n",
       "  </thead>\n",
       "  <tbody>\n",
       "    <tr>\n",
       "      <th>3</th>\n",
       "      <td>9.</td>\n",
       "      <td>荃灣石圍角邨石芳樓 \\nShek Fong House, Shek Wai \\nKok Es...</td>\n",
       "      <td>(\\n2022-01-25 ~ 2022-02-07 \\n曾身處指明場所超過兩\\n小時) \\...</td>\n",
       "      <td></td>\n",
       "    </tr>\n",
       "    <tr>\n",
       "      <th>2</th>\n",
       "      <td>40.</td>\n",
       "      <td>荃灣富麗花園昌貴閣 \\nCheong \\nKwai \\nCourt, \\nWealthy G...</td>\n",
       "      <td>(\\n2022-01-25 ~ 2022-02-07 \\n曾身處指明場所超過兩\\n小時) \\...</td>\n",
       "      <td></td>\n",
       "    </tr>\n",
       "    <tr>\n",
       "      <th>3</th>\n",
       "      <td>69.</td>\n",
       "      <td>荃灣川龍街 66 號華景樓 \\nWah King House, 66 Chuen \\nLun...</td>\n",
       "      <td>(\\n2022-01-25 ~ 2022-02-07 \\n曾身處指明場所超過兩\\n小時) \\...</td>\n",
       "      <td></td>\n",
       "    </tr>\n",
       "    <tr>\n",
       "      <th>4</th>\n",
       "      <td>70.</td>\n",
       "      <td>荃灣荃威花園 J 座 \\nBlock  J,  Allway  Gardens, \\nTsu...</td>\n",
       "      <td>(\\n2022-01-25 ~ 2022-02-07 \\n曾身處指明場所超過兩\\n小時) \\...</td>\n",
       "      <td></td>\n",
       "    </tr>\n",
       "    <tr>\n",
       "      <th>1</th>\n",
       "      <td>71.</td>\n",
       "      <td>荃灣海濱花園海裕閣 \\nHoi  Yue  Mansion,  Riviera \\nGard...</td>\n",
       "      <td>(\\n2022-01-25 ~ 2022-02-07 \\n曾身處指明場所超過兩\\n小時) \\...</td>\n",
       "      <td>(1) 2022-02-07 ~ 2022-02-09 \\n(2) 2022-02-10 ~...</td>\n",
       "    </tr>\n",
       "    <tr>\n",
       "      <th>2</th>\n",
       "      <td>72.</td>\n",
       "      <td>荃灣海灣花園 1 座 \\nBlock  1,  Waterside  Plaza, \\nTs...</td>\n",
       "      <td>(\\n2022-01-25 ~ 2022-02-07 \\n曾身處指明場所超過兩\\n小時) \\...</td>\n",
       "      <td></td>\n",
       "    </tr>\n",
       "  </tbody>\n",
       "</table>\n",
       "</div>"
      ],
      "text/plain": [
       "  Number                                    Specified_Place  \\\n",
       "3     9.  荃灣石圍角邨石芳樓 \\nShek Fong House, Shek Wai \\nKok Es...   \n",
       "2    40.  荃灣富麗花園昌貴閣 \\nCheong \\nKwai \\nCourt, \\nWealthy G...   \n",
       "3    69.  荃灣川龍街 66 號華景樓 \\nWah King House, 66 Chuen \\nLun...   \n",
       "4    70.  荃灣荃威花園 J 座 \\nBlock  J,  Allway  Gardens, \\nTsu...   \n",
       "1    71.  荃灣海濱花園海裕閣 \\nHoi  Yue  Mansion,  Riviera \\nGard...   \n",
       "2    72.  荃灣海灣花園 1 座 \\nBlock  1,  Waterside  Plaza, \\nTs...   \n",
       "\n",
       "                         Specified_Datetimes_Periods  \\\n",
       "3  (\\n2022-01-25 ~ 2022-02-07 \\n曾身處指明場所超過兩\\n小時) \\...   \n",
       "2  (\\n2022-01-25 ~ 2022-02-07 \\n曾身處指明場所超過兩\\n小時) \\...   \n",
       "3  (\\n2022-01-25 ~ 2022-02-07 \\n曾身處指明場所超過兩\\n小時) \\...   \n",
       "4  (\\n2022-01-25 ~ 2022-02-07 \\n曾身處指明場所超過兩\\n小時) \\...   \n",
       "1  (\\n2022-01-25 ~ 2022-02-07 \\n曾身處指明場所超過兩\\n小時) \\...   \n",
       "2  (\\n2022-01-25 ~ 2022-02-07 \\n曾身處指明場所超過兩\\n小時) \\...   \n",
       "\n",
       "                              Required_Testing_Dates  \n",
       "3                                                     \n",
       "2                                                     \n",
       "3                                                     \n",
       "4                                                     \n",
       "1  (1) 2022-02-07 ~ 2022-02-09 \\n(2) 2022-02-10 ~...  \n",
       "2                                                     "
      ]
     },
     "execution_count": 17,
     "metadata": {},
     "output_type": "execute_result"
    }
   ],
   "source": [
    "# Display header of dataframe.\n",
    "data_final_Tsuen_Wan_Yesterday"
   ]
  }
 ],
 "metadata": {
  "kernelspec": {
   "display_name": "Python 3 (ipykernel)",
   "language": "python",
   "name": "python3"
  },
  "language_info": {
   "codemirror_mode": {
    "name": "ipython",
    "version": 3
   },
   "file_extension": ".py",
   "mimetype": "text/x-python",
   "name": "python",
   "nbconvert_exporter": "python",
   "pygments_lexer": "ipython3",
   "version": "3.9.7"
  }
 },
 "nbformat": 4,
 "nbformat_minor": 5
}
