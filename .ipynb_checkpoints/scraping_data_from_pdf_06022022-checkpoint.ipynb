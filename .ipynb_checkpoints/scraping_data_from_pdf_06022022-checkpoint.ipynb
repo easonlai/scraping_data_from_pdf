{
 "cells": [
  {
   "cell_type": "code",
   "execution_count": 1,
   "id": "a0561365",
   "metadata": {},
   "outputs": [],
   "source": [
    "# Import necessary libraries.\n",
    "import requests\n",
    "import camelot\n",
    "import pandas as pd\n",
    "from datetime import date"
   ]
  },
  {
   "cell_type": "code",
   "execution_count": 2,
   "id": "b4921338",
   "metadata": {},
   "outputs": [
    {
     "data": {
      "text/plain": [
       "609441"
      ]
     },
     "execution_count": 2,
     "metadata": {},
     "output_type": "execute_result"
    }
   ],
   "source": [
    "# Download source latest PDF file \"Arrangements for Compulsory Testing\n",
    "# in respect of Buildings Resided by COVID-19 Cases with the N501Y/L452R variants\n",
    "# in accordance with the Compulsory Testing Notice issued on 10 January 2022\" from coronavirus.gov.hk.\n",
    "url = 'https://www.coronavirus.gov.hk/pdf/CTN_Specified_premises_and_Dates_of_Testing.pdf'\n",
    "r = requests.get(url, allow_redirects=True)\n",
    "\n",
    "open('data/CTN_Specified_premises_and_Dates_of_Testing.pdf', 'wb').write(r.content)"
   ]
  },
  {
   "cell_type": "code",
   "execution_count": 3,
   "id": "02d36794",
   "metadata": {},
   "outputs": [],
   "source": [
    "# Define the source PDF file path.\n",
    "source_file = 'data/CTN_Specified_premises_and_Dates_of_Testing.pdf'"
   ]
  },
  {
   "cell_type": "code",
   "execution_count": 4,
   "id": "dec6d8fe",
   "metadata": {},
   "outputs": [],
   "source": [
    "# Extract all tables from all pages in a PDF file.\n",
    "data_tables = camelot.read_pdf(source_file, pages='all')"
   ]
  },
  {
   "cell_type": "code",
   "execution_count": 5,
   "id": "133cdd3b",
   "metadata": {},
   "outputs": [
    {
     "name": "stdout",
     "output_type": "stream",
     "text": [
      "Total Number of Tables Being Extracted: 17\n"
     ]
    }
   ],
   "source": [
    "# Print the number or tables are bthat eing extracted.\n",
    "print(\"Total Number of Tables Being Extracted:\", data_tables.n)"
   ]
  },
  {
   "cell_type": "code",
   "execution_count": 6,
   "id": "d360a252",
   "metadata": {},
   "outputs": [],
   "source": [
    "# Parse all extract tables into a single list.\n",
    "data_list = []\n",
    "\n",
    "for t in range(data_tables.n):\n",
    "    data = data_tables[t].df\n",
    "    data_list.append(data)"
   ]
  },
  {
   "cell_type": "code",
   "execution_count": 7,
   "id": "3c4cd88a",
   "metadata": {},
   "outputs": [],
   "source": [
    "# Convert list into Pandas dataframe.\n",
    "data_final_1 = pd.concat(data_list, ignore_index=False, sort=False)"
   ]
  },
  {
   "cell_type": "code",
   "execution_count": 8,
   "id": "53486742",
   "metadata": {},
   "outputs": [],
   "source": [
    "# Change the dataframe column headers.\n",
    "data_final_1.columns = ['Specified_Premises', 'Dates_of_Testing']"
   ]
  },
  {
   "cell_type": "code",
   "execution_count": 9,
   "id": "f9405309",
   "metadata": {},
   "outputs": [
    {
     "data": {
      "text/html": [
       "<div>\n",
       "<style scoped>\n",
       "    .dataframe tbody tr th:only-of-type {\n",
       "        vertical-align: middle;\n",
       "    }\n",
       "\n",
       "    .dataframe tbody tr th {\n",
       "        vertical-align: top;\n",
       "    }\n",
       "\n",
       "    .dataframe thead th {\n",
       "        text-align: right;\n",
       "    }\n",
       "</style>\n",
       "<table border=\"1\" class=\"dataframe\">\n",
       "  <thead>\n",
       "    <tr style=\"text-align: right;\">\n",
       "      <th></th>\n",
       "      <th>Specified_Premises</th>\n",
       "      <th>Dates_of_Testing</th>\n",
       "    </tr>\n",
       "  </thead>\n",
       "  <tbody>\n",
       "    <tr>\n",
       "      <th>0</th>\n",
       "      <td>指明地方 \\nSpecified Premises</td>\n",
       "      <td>檢測日期 \\n(日/月/年) \\nDates of Testing \\n(DD/MM/YYYY)</td>\n",
       "    </tr>\n",
       "    <tr>\n",
       "      <th>1</th>\n",
       "      <td>香港仔嘉隆苑嘉昇閣 \\nKa Sing House, Ka Lung Court, Aber...</td>\n",
       "      <td>06/02/2022</td>\n",
       "    </tr>\n",
       "    <tr>\n",
       "      <th>2</th>\n",
       "      <td>東涌映灣園 1 期賞濤軒 1 座 \\nTower 1, Monterey Cove, Car...</td>\n",
       "      <td>06/02/2022</td>\n",
       "    </tr>\n",
       "    <tr>\n",
       "      <th>3</th>\n",
       "      <td>觀塘協和街 33 號凱滙第 3 座 \\nTower 3, Grand Central, 33...</td>\n",
       "      <td>06/02/2022</td>\n",
       "    </tr>\n",
       "    <tr>\n",
       "      <th>4</th>\n",
       "      <td>深水埗西邨路 19 號富昌邨富悅樓 \\nFu Yuet House, Fu Cheong E...</td>\n",
       "      <td>07/02/2022</td>\n",
       "    </tr>\n",
       "    <tr>\n",
       "      <th>...</th>\n",
       "      <td>...</td>\n",
       "      <td>...</td>\n",
       "    </tr>\n",
       "    <tr>\n",
       "      <th>2</th>\n",
       "      <td>深水埗荔枝角道 258 號 \\n258 Lai Chi Kok Road, Sham Shu...</td>\n",
       "      <td>05/02/2022 ~ 07/02/2022 \\n08/02/2022 ~ 10/02/2...</td>\n",
       "    </tr>\n",
       "    <tr>\n",
       "      <th>3</th>\n",
       "      <td>天水圍天華路 39 號天悅邨悅泰樓 \\nYuet Tai House, Tin Yuet E...</td>\n",
       "      <td>05/02/2022 ~ 07/02/2022 \\n08/02/2022 ~ 10/02/2...</td>\n",
       "    </tr>\n",
       "    <tr>\n",
       "      <th>4</th>\n",
       "      <td>元朗福德街 36A 號 \\n36A Fook Tak Street, Yuen Long</td>\n",
       "      <td>05/02/2022 ~ 07/02/2022 \\n08/02/2022 ~ 10/02/2...</td>\n",
       "    </tr>\n",
       "    <tr>\n",
       "      <th>5</th>\n",
       "      <td>屯門友愛邨愛智樓 \\nOi Chi House, Yau Oi Estate, Tuen Mun</td>\n",
       "      <td>05/02/2022 ~ 07/02/2022 \\n08/02/2022 ~ 10/02/2...</td>\n",
       "    </tr>\n",
       "    <tr>\n",
       "      <th>6</th>\n",
       "      <td>油麻地駿發花園 2 座 \\nBlock 2, Prosperous Garden, Yau ...</td>\n",
       "      <td>05/02/2022 ~ 07/02/2022 \\n08/02/2022 ~ 10/02/2...</td>\n",
       "    </tr>\n",
       "  </tbody>\n",
       "</table>\n",
       "<p>218 rows × 2 columns</p>\n",
       "</div>"
      ],
      "text/plain": [
       "                                   Specified_Premises  \\\n",
       "0                           指明地方 \\nSpecified Premises   \n",
       "1   香港仔嘉隆苑嘉昇閣 \\nKa Sing House, Ka Lung Court, Aber...   \n",
       "2   東涌映灣園 1 期賞濤軒 1 座 \\nTower 1, Monterey Cove, Car...   \n",
       "3   觀塘協和街 33 號凱滙第 3 座 \\nTower 3, Grand Central, 33...   \n",
       "4   深水埗西邨路 19 號富昌邨富悅樓 \\nFu Yuet House, Fu Cheong E...   \n",
       "..                                                ...   \n",
       "2   深水埗荔枝角道 258 號 \\n258 Lai Chi Kok Road, Sham Shu...   \n",
       "3   天水圍天華路 39 號天悅邨悅泰樓 \\nYuet Tai House, Tin Yuet E...   \n",
       "4        元朗福德街 36A 號 \\n36A Fook Tak Street, Yuen Long   \n",
       "5    屯門友愛邨愛智樓 \\nOi Chi House, Yau Oi Estate, Tuen Mun   \n",
       "6   油麻地駿發花園 2 座 \\nBlock 2, Prosperous Garden, Yau ...   \n",
       "\n",
       "                                     Dates_of_Testing  \n",
       "0    檢測日期 \\n(日/月/年) \\nDates of Testing \\n(DD/MM/YYYY)  \n",
       "1                                          06/02/2022  \n",
       "2                                          06/02/2022  \n",
       "3                                          06/02/2022  \n",
       "4                                          07/02/2022  \n",
       "..                                                ...  \n",
       "2   05/02/2022 ~ 07/02/2022 \\n08/02/2022 ~ 10/02/2...  \n",
       "3   05/02/2022 ~ 07/02/2022 \\n08/02/2022 ~ 10/02/2...  \n",
       "4   05/02/2022 ~ 07/02/2022 \\n08/02/2022 ~ 10/02/2...  \n",
       "5   05/02/2022 ~ 07/02/2022 \\n08/02/2022 ~ 10/02/2...  \n",
       "6   05/02/2022 ~ 07/02/2022 \\n08/02/2022 ~ 10/02/2...  \n",
       "\n",
       "[218 rows x 2 columns]"
      ]
     },
     "execution_count": 9,
     "metadata": {},
     "output_type": "execute_result"
    }
   ],
   "source": [
    "# Display header of dataframe.\n",
    "data_final_1"
   ]
  },
  {
   "cell_type": "code",
   "execution_count": 10,
   "id": "037c6496",
   "metadata": {},
   "outputs": [],
   "source": [
    "# Erase unnecessary rows from the dataframe.\n",
    "data_final_2 = data_final_1[data_final_1.Specified_Premises != '指明地方 \\nSpecified Premises']"
   ]
  },
  {
   "cell_type": "code",
   "execution_count": 11,
   "id": "002f5d71",
   "metadata": {},
   "outputs": [
    {
     "data": {
      "text/html": [
       "<div>\n",
       "<style scoped>\n",
       "    .dataframe tbody tr th:only-of-type {\n",
       "        vertical-align: middle;\n",
       "    }\n",
       "\n",
       "    .dataframe tbody tr th {\n",
       "        vertical-align: top;\n",
       "    }\n",
       "\n",
       "    .dataframe thead th {\n",
       "        text-align: right;\n",
       "    }\n",
       "</style>\n",
       "<table border=\"1\" class=\"dataframe\">\n",
       "  <thead>\n",
       "    <tr style=\"text-align: right;\">\n",
       "      <th></th>\n",
       "      <th>Specified_Premises</th>\n",
       "      <th>Dates_of_Testing</th>\n",
       "    </tr>\n",
       "  </thead>\n",
       "  <tbody>\n",
       "    <tr>\n",
       "      <th>1</th>\n",
       "      <td>香港仔嘉隆苑嘉昇閣 \\nKa Sing House, Ka Lung Court, Aber...</td>\n",
       "      <td>06/02/2022</td>\n",
       "    </tr>\n",
       "    <tr>\n",
       "      <th>2</th>\n",
       "      <td>東涌映灣園 1 期賞濤軒 1 座 \\nTower 1, Monterey Cove, Car...</td>\n",
       "      <td>06/02/2022</td>\n",
       "    </tr>\n",
       "    <tr>\n",
       "      <th>3</th>\n",
       "      <td>觀塘協和街 33 號凱滙第 3 座 \\nTower 3, Grand Central, 33...</td>\n",
       "      <td>06/02/2022</td>\n",
       "    </tr>\n",
       "    <tr>\n",
       "      <th>4</th>\n",
       "      <td>深水埗西邨路 19 號富昌邨富悅樓 \\nFu Yuet House, Fu Cheong E...</td>\n",
       "      <td>07/02/2022</td>\n",
       "    </tr>\n",
       "    <tr>\n",
       "      <th>5</th>\n",
       "      <td>大嶼山東涌健東路  1 號映灣園二期映濤軒第 7 座 \\nAlbany Cove Tower...</td>\n",
       "      <td>07/02/2022</td>\n",
       "    </tr>\n",
       "    <tr>\n",
       "      <th>...</th>\n",
       "      <td>...</td>\n",
       "      <td>...</td>\n",
       "    </tr>\n",
       "    <tr>\n",
       "      <th>2</th>\n",
       "      <td>深水埗荔枝角道 258 號 \\n258 Lai Chi Kok Road, Sham Shu...</td>\n",
       "      <td>05/02/2022 ~ 07/02/2022 \\n08/02/2022 ~ 10/02/2...</td>\n",
       "    </tr>\n",
       "    <tr>\n",
       "      <th>3</th>\n",
       "      <td>天水圍天華路 39 號天悅邨悅泰樓 \\nYuet Tai House, Tin Yuet E...</td>\n",
       "      <td>05/02/2022 ~ 07/02/2022 \\n08/02/2022 ~ 10/02/2...</td>\n",
       "    </tr>\n",
       "    <tr>\n",
       "      <th>4</th>\n",
       "      <td>元朗福德街 36A 號 \\n36A Fook Tak Street, Yuen Long</td>\n",
       "      <td>05/02/2022 ~ 07/02/2022 \\n08/02/2022 ~ 10/02/2...</td>\n",
       "    </tr>\n",
       "    <tr>\n",
       "      <th>5</th>\n",
       "      <td>屯門友愛邨愛智樓 \\nOi Chi House, Yau Oi Estate, Tuen Mun</td>\n",
       "      <td>05/02/2022 ~ 07/02/2022 \\n08/02/2022 ~ 10/02/2...</td>\n",
       "    </tr>\n",
       "    <tr>\n",
       "      <th>6</th>\n",
       "      <td>油麻地駿發花園 2 座 \\nBlock 2, Prosperous Garden, Yau ...</td>\n",
       "      <td>05/02/2022 ~ 07/02/2022 \\n08/02/2022 ~ 10/02/2...</td>\n",
       "    </tr>\n",
       "  </tbody>\n",
       "</table>\n",
       "<p>201 rows × 2 columns</p>\n",
       "</div>"
      ],
      "text/plain": [
       "                                   Specified_Premises  \\\n",
       "1   香港仔嘉隆苑嘉昇閣 \\nKa Sing House, Ka Lung Court, Aber...   \n",
       "2   東涌映灣園 1 期賞濤軒 1 座 \\nTower 1, Monterey Cove, Car...   \n",
       "3   觀塘協和街 33 號凱滙第 3 座 \\nTower 3, Grand Central, 33...   \n",
       "4   深水埗西邨路 19 號富昌邨富悅樓 \\nFu Yuet House, Fu Cheong E...   \n",
       "5   大嶼山東涌健東路  1 號映灣園二期映濤軒第 7 座 \\nAlbany Cove Tower...   \n",
       "..                                                ...   \n",
       "2   深水埗荔枝角道 258 號 \\n258 Lai Chi Kok Road, Sham Shu...   \n",
       "3   天水圍天華路 39 號天悅邨悅泰樓 \\nYuet Tai House, Tin Yuet E...   \n",
       "4        元朗福德街 36A 號 \\n36A Fook Tak Street, Yuen Long   \n",
       "5    屯門友愛邨愛智樓 \\nOi Chi House, Yau Oi Estate, Tuen Mun   \n",
       "6   油麻地駿發花園 2 座 \\nBlock 2, Prosperous Garden, Yau ...   \n",
       "\n",
       "                                     Dates_of_Testing  \n",
       "1                                          06/02/2022  \n",
       "2                                          06/02/2022  \n",
       "3                                          06/02/2022  \n",
       "4                                          07/02/2022  \n",
       "5                                          07/02/2022  \n",
       "..                                                ...  \n",
       "2   05/02/2022 ~ 07/02/2022 \\n08/02/2022 ~ 10/02/2...  \n",
       "3   05/02/2022 ~ 07/02/2022 \\n08/02/2022 ~ 10/02/2...  \n",
       "4   05/02/2022 ~ 07/02/2022 \\n08/02/2022 ~ 10/02/2...  \n",
       "5   05/02/2022 ~ 07/02/2022 \\n08/02/2022 ~ 10/02/2...  \n",
       "6   05/02/2022 ~ 07/02/2022 \\n08/02/2022 ~ 10/02/2...  \n",
       "\n",
       "[201 rows x 2 columns]"
      ]
     },
     "execution_count": 11,
     "metadata": {},
     "output_type": "execute_result"
    }
   ],
   "source": [
    "# Display header of dataframe.\n",
    "data_final_2"
   ]
  },
  {
   "cell_type": "code",
   "execution_count": 12,
   "id": "feba7ac6",
   "metadata": {},
   "outputs": [
    {
     "name": "stdout",
     "output_type": "stream",
     "text": [
      "06/02/2022\n"
     ]
    }
   ],
   "source": [
    "# Define the variable for the date string.\n",
    "today = date.today()\n",
    "today_a = today.strftime(\"%d/%m/%Y\")\n",
    "print(today_a)"
   ]
  },
  {
   "cell_type": "code",
   "execution_count": 13,
   "id": "6a256baa",
   "metadata": {},
   "outputs": [],
   "source": [
    "# Filter dataframe by the specific name of district (Tai Po) and date (today).\n",
    "data_final_Tai_Po_Today = data_final_2[(data_final_2['Specified_Premises'].str.contains(\"Tai Po\")) & \n",
    "                                        data_final_2['Dates_of_Testing'].str.contains(str(today_a))]"
   ]
  },
  {
   "cell_type": "code",
   "execution_count": 14,
   "id": "4b232b17",
   "metadata": {},
   "outputs": [
    {
     "data": {
      "text/html": [
       "<div>\n",
       "<style scoped>\n",
       "    .dataframe tbody tr th:only-of-type {\n",
       "        vertical-align: middle;\n",
       "    }\n",
       "\n",
       "    .dataframe tbody tr th {\n",
       "        vertical-align: top;\n",
       "    }\n",
       "\n",
       "    .dataframe thead th {\n",
       "        text-align: right;\n",
       "    }\n",
       "</style>\n",
       "<table border=\"1\" class=\"dataframe\">\n",
       "  <thead>\n",
       "    <tr style=\"text-align: right;\">\n",
       "      <th></th>\n",
       "      <th>Specified_Premises</th>\n",
       "      <th>Dates_of_Testing</th>\n",
       "    </tr>\n",
       "  </thead>\n",
       "  <tbody>\n",
       "    <tr>\n",
       "      <th>7</th>\n",
       "      <td>大埔天賦海灣二期-溋玥 16 座 \\nTower 16, Phase 2 - Provide...</td>\n",
       "      <td>06/02/2022</td>\n",
       "    </tr>\n",
       "    <tr>\n",
       "      <th>2</th>\n",
       "      <td>大埔太和邨福和樓 \\nFook Wo House, Tai Wo Estate, Tai Po</td>\n",
       "      <td>06/02/2022 \\n09/02/2022</td>\n",
       "    </tr>\n",
       "    <tr>\n",
       "      <th>4</th>\n",
       "      <td>深水埗大埔道 76-84 號華僑大廈 \\nWah Kiu Mansion, 76-84 Ta...</td>\n",
       "      <td>06/02/2022 \\n09/02/2022</td>\n",
       "    </tr>\n",
       "    <tr>\n",
       "      <th>12</th>\n",
       "      <td>大埔太和邨翠和樓 \\nTsui Wo House, Tai Wo Estate, Tai Po</td>\n",
       "      <td>06/02/2022 \\n09/02/2022</td>\n",
       "    </tr>\n",
       "    <tr>\n",
       "      <th>5</th>\n",
       "      <td>大埔太湖花園 10 座 \\nBlock 10, Serenity Park, Tai Po</td>\n",
       "      <td>04/02/2022 ~ 06/02/2022 \\n07/02/2022 ~ 09/02/2...</td>\n",
       "    </tr>\n",
       "  </tbody>\n",
       "</table>\n",
       "</div>"
      ],
      "text/plain": [
       "                                   Specified_Premises  \\\n",
       "7   大埔天賦海灣二期-溋玥 16 座 \\nTower 16, Phase 2 - Provide...   \n",
       "2     大埔太和邨福和樓 \\nFook Wo House, Tai Wo Estate, Tai Po   \n",
       "4   深水埗大埔道 76-84 號華僑大廈 \\nWah Kiu Mansion, 76-84 Ta...   \n",
       "12    大埔太和邨翠和樓 \\nTsui Wo House, Tai Wo Estate, Tai Po   \n",
       "5       大埔太湖花園 10 座 \\nBlock 10, Serenity Park, Tai Po   \n",
       "\n",
       "                                     Dates_of_Testing  \n",
       "7                                          06/02/2022  \n",
       "2                             06/02/2022 \\n09/02/2022  \n",
       "4                             06/02/2022 \\n09/02/2022  \n",
       "12                            06/02/2022 \\n09/02/2022  \n",
       "5   04/02/2022 ~ 06/02/2022 \\n07/02/2022 ~ 09/02/2...  "
      ]
     },
     "execution_count": 14,
     "metadata": {},
     "output_type": "execute_result"
    }
   ],
   "source": [
    "# Display header of dataframe.\n",
    "data_final_Tai_Po_Today"
   ]
  },
  {
   "cell_type": "code",
   "execution_count": 15,
   "id": "8f77b286",
   "metadata": {},
   "outputs": [],
   "source": [
    "# Filter dataframe by the specific name of district (Tsuen Wan) and date (today).\n",
    "data_final_Tsuen_Wan_Today = data_final_2[(data_final_2['Specified_Premises'].str.contains(\"Tsuen Wan\")) & \n",
    "                                        data_final_2['Dates_of_Testing'].str.contains(str(today_a))]"
   ]
  },
  {
   "cell_type": "code",
   "execution_count": 16,
   "id": "7226e57d",
   "metadata": {},
   "outputs": [
    {
     "data": {
      "text/html": [
       "<div>\n",
       "<style scoped>\n",
       "    .dataframe tbody tr th:only-of-type {\n",
       "        vertical-align: middle;\n",
       "    }\n",
       "\n",
       "    .dataframe tbody tr th {\n",
       "        vertical-align: top;\n",
       "    }\n",
       "\n",
       "    .dataframe thead th {\n",
       "        text-align: right;\n",
       "    }\n",
       "</style>\n",
       "<table border=\"1\" class=\"dataframe\">\n",
       "  <thead>\n",
       "    <tr style=\"text-align: right;\">\n",
       "      <th></th>\n",
       "      <th>Specified_Premises</th>\n",
       "      <th>Dates_of_Testing</th>\n",
       "    </tr>\n",
       "  </thead>\n",
       "  <tbody>\n",
       "    <tr>\n",
       "      <th>6</th>\n",
       "      <td>荃灣梨木樹邨葵樹樓 \\nKwai Shue House, Lei Muk Shue Esta...</td>\n",
       "      <td>04/02/2022 ~ 06/02/2022 \\n07/02/2022 ~ 09/02/2...</td>\n",
       "    </tr>\n",
       "  </tbody>\n",
       "</table>\n",
       "</div>"
      ],
      "text/plain": [
       "                                  Specified_Premises  \\\n",
       "6  荃灣梨木樹邨葵樹樓 \\nKwai Shue House, Lei Muk Shue Esta...   \n",
       "\n",
       "                                    Dates_of_Testing  \n",
       "6  04/02/2022 ~ 06/02/2022 \\n07/02/2022 ~ 09/02/2...  "
      ]
     },
     "execution_count": 16,
     "metadata": {},
     "output_type": "execute_result"
    }
   ],
   "source": [
    "# Display header of dataframe.\n",
    "data_final_Tsuen_Wan_Today"
   ]
  }
 ],
 "metadata": {
  "kernelspec": {
   "display_name": "Python 3 (ipykernel)",
   "language": "python",
   "name": "python3"
  },
  "language_info": {
   "codemirror_mode": {
    "name": "ipython",
    "version": 3
   },
   "file_extension": ".py",
   "mimetype": "text/x-python",
   "name": "python",
   "nbconvert_exporter": "python",
   "pygments_lexer": "ipython3",
   "version": "3.9.7"
  }
 },
 "nbformat": 4,
 "nbformat_minor": 5
}
