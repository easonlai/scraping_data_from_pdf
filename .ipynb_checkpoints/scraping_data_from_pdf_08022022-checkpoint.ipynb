{
 "cells": [
  {
   "cell_type": "code",
   "execution_count": 1,
   "id": "a0561365",
   "metadata": {},
   "outputs": [],
   "source": [
    "# Import necessary libraries.\n",
    "import requests\n",
    "import camelot\n",
    "import pandas as pd\n",
    "from datetime import date"
   ]
  },
  {
   "cell_type": "code",
   "execution_count": 2,
   "id": "b4921338",
   "metadata": {},
   "outputs": [
    {
     "data": {
      "text/plain": [
       "663875"
      ]
     },
     "execution_count": 2,
     "metadata": {},
     "output_type": "execute_result"
    }
   ],
   "source": [
    "# Download source latest PDF file \"Arrangements for Compulsory Testing\n",
    "# in respect of Buildings Resided by COVID-19 Cases with the N501Y/L452R variants\n",
    "# in accordance with the Compulsory Testing Notice issued on 10 January 2022\" from coronavirus.gov.hk.\n",
    "url = 'https://www.coronavirus.gov.hk/pdf/CTN_Specified_premises_and_Dates_of_Testing.pdf'\n",
    "r = requests.get(url, allow_redirects=True)\n",
    "\n",
    "open('data/CTN_Specified_premises_and_Dates_of_Testing.pdf', 'wb').write(r.content)"
   ]
  },
  {
   "cell_type": "code",
   "execution_count": 3,
   "id": "02d36794",
   "metadata": {},
   "outputs": [],
   "source": [
    "# Define the source PDF file path.\n",
    "source_file = 'data/CTN_Specified_premises_and_Dates_of_Testing.pdf'"
   ]
  },
  {
   "cell_type": "code",
   "execution_count": 4,
   "id": "dec6d8fe",
   "metadata": {},
   "outputs": [],
   "source": [
    "# Extract all tables from all pages in a PDF file.\n",
    "data_tables = camelot.read_pdf(source_file, pages='all')"
   ]
  },
  {
   "cell_type": "code",
   "execution_count": 5,
   "id": "133cdd3b",
   "metadata": {},
   "outputs": [
    {
     "name": "stdout",
     "output_type": "stream",
     "text": [
      "Total Number of Tables Being Extracted: 21\n"
     ]
    }
   ],
   "source": [
    "# Print the number or tables are bthat eing extracted.\n",
    "print(\"Total Number of Tables Being Extracted:\", data_tables.n)"
   ]
  },
  {
   "cell_type": "code",
   "execution_count": 6,
   "id": "d360a252",
   "metadata": {},
   "outputs": [],
   "source": [
    "# Parse all extract tables into a single list.\n",
    "data_list = []\n",
    "\n",
    "for t in range(data_tables.n):\n",
    "    data = data_tables[t].df\n",
    "    data_list.append(data)"
   ]
  },
  {
   "cell_type": "code",
   "execution_count": 7,
   "id": "3c4cd88a",
   "metadata": {},
   "outputs": [],
   "source": [
    "# Convert list into Pandas dataframe.\n",
    "data_final_1 = pd.concat(data_list, ignore_index=False, sort=False)"
   ]
  },
  {
   "cell_type": "code",
   "execution_count": 8,
   "id": "53486742",
   "metadata": {},
   "outputs": [],
   "source": [
    "# Change the dataframe column headers.\n",
    "data_final_1.columns = ['Specified_Premises', 'Dates_of_Testing']"
   ]
  },
  {
   "cell_type": "code",
   "execution_count": 9,
   "id": "f9405309",
   "metadata": {},
   "outputs": [
    {
     "data": {
      "text/html": [
       "<div>\n",
       "<style scoped>\n",
       "    .dataframe tbody tr th:only-of-type {\n",
       "        vertical-align: middle;\n",
       "    }\n",
       "\n",
       "    .dataframe tbody tr th {\n",
       "        vertical-align: top;\n",
       "    }\n",
       "\n",
       "    .dataframe thead th {\n",
       "        text-align: right;\n",
       "    }\n",
       "</style>\n",
       "<table border=\"1\" class=\"dataframe\">\n",
       "  <thead>\n",
       "    <tr style=\"text-align: right;\">\n",
       "      <th></th>\n",
       "      <th>Specified_Premises</th>\n",
       "      <th>Dates_of_Testing</th>\n",
       "    </tr>\n",
       "  </thead>\n",
       "  <tbody>\n",
       "    <tr>\n",
       "      <th>0</th>\n",
       "      <td>指明地方 \\nSpecified Premises</td>\n",
       "      <td>檢測日期 \\n(日/月/年) \\nDates of Testing \\n(DD/MM/YYYY)</td>\n",
       "    </tr>\n",
       "    <tr>\n",
       "      <th>1</th>\n",
       "      <td>筲箕灣明華大廈 1 座 \\nTower 1, Ming Wah Dai Ha, Shau K...</td>\n",
       "      <td>08/02/2022</td>\n",
       "    </tr>\n",
       "    <tr>\n",
       "      <th>2</th>\n",
       "      <td>荃灣名逸居 1 座 \\nBlock 1, New Haven, Tsuen Wan</td>\n",
       "      <td>08/02/2022</td>\n",
       "    </tr>\n",
       "    <tr>\n",
       "      <th>3</th>\n",
       "      <td>長沙灣長沙灣邨長欣樓 \\nCheung Yan House, Cheung Sha Wan ...</td>\n",
       "      <td>08/02/2022</td>\n",
       "    </tr>\n",
       "    <tr>\n",
       "      <th>4</th>\n",
       "      <td>大嶼山嶼南道貝澳老圍村 20C 號 \\n20C Pui O Lo Wai Tsuen, So...</td>\n",
       "      <td>08/02/2022</td>\n",
       "    </tr>\n",
       "    <tr>\n",
       "      <th>...</th>\n",
       "      <td>...</td>\n",
       "      <td>...</td>\n",
       "    </tr>\n",
       "    <tr>\n",
       "      <th>1</th>\n",
       "      <td>荃灣川龍街 66 號華景樓 \\nWah King House, 66 Chuen Lung ...</td>\n",
       "      <td>07/02/2022 ~ 09/02/2022 \\n10/02/2022 ~ 12/02/2022</td>\n",
       "    </tr>\n",
       "    <tr>\n",
       "      <th>2</th>\n",
       "      <td>荃灣荃威花園 J 座 \\nBlock J, Allway Gardens, Tsuen Wan</td>\n",
       "      <td>07/02/2022 ~ 09/02/2022 \\n10/02/2022 ~ 12/02/2022</td>\n",
       "    </tr>\n",
       "    <tr>\n",
       "      <th>3</th>\n",
       "      <td>荃灣海濱花園 22 座海裕閣 \\nBlock 22, Hoi Yue Mansion, Ri...</td>\n",
       "      <td>07/02/2022 ~ 09/02/2022 \\n10/02/2022 ~ 12/02/2022</td>\n",
       "    </tr>\n",
       "    <tr>\n",
       "      <th>4</th>\n",
       "      <td>荃灣海灣花園 1 座 \\nBlock 1, Waterside Plaza, Tsuen Wan</td>\n",
       "      <td>07/02/2022 ~ 09/02/2022 \\n10/02/2022 ~ 12/02/2022</td>\n",
       "    </tr>\n",
       "    <tr>\n",
       "      <th>5</th>\n",
       "      <td>深水埗富昌邨富悅樓 \\nFu Yuet House, Fu Cheong Estate, S...</td>\n",
       "      <td>08/02/2022 ~ 09/02/2022 \\n10/02/2022 ~ 12/02/2022</td>\n",
       "    </tr>\n",
       "  </tbody>\n",
       "</table>\n",
       "<p>301 rows × 2 columns</p>\n",
       "</div>"
      ],
      "text/plain": [
       "                                   Specified_Premises  \\\n",
       "0                           指明地方 \\nSpecified Premises   \n",
       "1   筲箕灣明華大廈 1 座 \\nTower 1, Ming Wah Dai Ha, Shau K...   \n",
       "2           荃灣名逸居 1 座 \\nBlock 1, New Haven, Tsuen Wan   \n",
       "3   長沙灣長沙灣邨長欣樓 \\nCheung Yan House, Cheung Sha Wan ...   \n",
       "4   大嶼山嶼南道貝澳老圍村 20C 號 \\n20C Pui O Lo Wai Tsuen, So...   \n",
       "..                                                ...   \n",
       "1   荃灣川龍街 66 號華景樓 \\nWah King House, 66 Chuen Lung ...   \n",
       "2     荃灣荃威花園 J 座 \\nBlock J, Allway Gardens, Tsuen Wan   \n",
       "3   荃灣海濱花園 22 座海裕閣 \\nBlock 22, Hoi Yue Mansion, Ri...   \n",
       "4    荃灣海灣花園 1 座 \\nBlock 1, Waterside Plaza, Tsuen Wan   \n",
       "5   深水埗富昌邨富悅樓 \\nFu Yuet House, Fu Cheong Estate, S...   \n",
       "\n",
       "                                     Dates_of_Testing  \n",
       "0    檢測日期 \\n(日/月/年) \\nDates of Testing \\n(DD/MM/YYYY)  \n",
       "1                                          08/02/2022  \n",
       "2                                          08/02/2022  \n",
       "3                                          08/02/2022  \n",
       "4                                          08/02/2022  \n",
       "..                                                ...  \n",
       "1   07/02/2022 ~ 09/02/2022 \\n10/02/2022 ~ 12/02/2022  \n",
       "2   07/02/2022 ~ 09/02/2022 \\n10/02/2022 ~ 12/02/2022  \n",
       "3   07/02/2022 ~ 09/02/2022 \\n10/02/2022 ~ 12/02/2022  \n",
       "4   07/02/2022 ~ 09/02/2022 \\n10/02/2022 ~ 12/02/2022  \n",
       "5   08/02/2022 ~ 09/02/2022 \\n10/02/2022 ~ 12/02/2022  \n",
       "\n",
       "[301 rows x 2 columns]"
      ]
     },
     "execution_count": 9,
     "metadata": {},
     "output_type": "execute_result"
    }
   ],
   "source": [
    "# Display header of dataframe.\n",
    "data_final_1"
   ]
  },
  {
   "cell_type": "code",
   "execution_count": 10,
   "id": "037c6496",
   "metadata": {},
   "outputs": [],
   "source": [
    "# Erase unnecessary rows from the dataframe.\n",
    "data_final_2 = data_final_1[data_final_1.Specified_Premises != '指明地方 \\nSpecified Premises']"
   ]
  },
  {
   "cell_type": "code",
   "execution_count": 11,
   "id": "002f5d71",
   "metadata": {},
   "outputs": [
    {
     "data": {
      "text/html": [
       "<div>\n",
       "<style scoped>\n",
       "    .dataframe tbody tr th:only-of-type {\n",
       "        vertical-align: middle;\n",
       "    }\n",
       "\n",
       "    .dataframe tbody tr th {\n",
       "        vertical-align: top;\n",
       "    }\n",
       "\n",
       "    .dataframe thead th {\n",
       "        text-align: right;\n",
       "    }\n",
       "</style>\n",
       "<table border=\"1\" class=\"dataframe\">\n",
       "  <thead>\n",
       "    <tr style=\"text-align: right;\">\n",
       "      <th></th>\n",
       "      <th>Specified_Premises</th>\n",
       "      <th>Dates_of_Testing</th>\n",
       "    </tr>\n",
       "  </thead>\n",
       "  <tbody>\n",
       "    <tr>\n",
       "      <th>1</th>\n",
       "      <td>筲箕灣明華大廈 1 座 \\nTower 1, Ming Wah Dai Ha, Shau K...</td>\n",
       "      <td>08/02/2022</td>\n",
       "    </tr>\n",
       "    <tr>\n",
       "      <th>2</th>\n",
       "      <td>荃灣名逸居 1 座 \\nBlock 1, New Haven, Tsuen Wan</td>\n",
       "      <td>08/02/2022</td>\n",
       "    </tr>\n",
       "    <tr>\n",
       "      <th>3</th>\n",
       "      <td>長沙灣長沙灣邨長欣樓 \\nCheung Yan House, Cheung Sha Wan ...</td>\n",
       "      <td>08/02/2022</td>\n",
       "    </tr>\n",
       "    <tr>\n",
       "      <th>4</th>\n",
       "      <td>大嶼山嶼南道貝澳老圍村 20C 號 \\n20C Pui O Lo Wai Tsuen, So...</td>\n",
       "      <td>08/02/2022</td>\n",
       "    </tr>\n",
       "    <tr>\n",
       "      <th>5</th>\n",
       "      <td>香港仔香港仔中心港昌閣(G 座) \\nKong Cheong Court (Block G)...</td>\n",
       "      <td>08/02/2022</td>\n",
       "    </tr>\n",
       "    <tr>\n",
       "      <th>...</th>\n",
       "      <td>...</td>\n",
       "      <td>...</td>\n",
       "    </tr>\n",
       "    <tr>\n",
       "      <th>1</th>\n",
       "      <td>荃灣川龍街 66 號華景樓 \\nWah King House, 66 Chuen Lung ...</td>\n",
       "      <td>07/02/2022 ~ 09/02/2022 \\n10/02/2022 ~ 12/02/2022</td>\n",
       "    </tr>\n",
       "    <tr>\n",
       "      <th>2</th>\n",
       "      <td>荃灣荃威花園 J 座 \\nBlock J, Allway Gardens, Tsuen Wan</td>\n",
       "      <td>07/02/2022 ~ 09/02/2022 \\n10/02/2022 ~ 12/02/2022</td>\n",
       "    </tr>\n",
       "    <tr>\n",
       "      <th>3</th>\n",
       "      <td>荃灣海濱花園 22 座海裕閣 \\nBlock 22, Hoi Yue Mansion, Ri...</td>\n",
       "      <td>07/02/2022 ~ 09/02/2022 \\n10/02/2022 ~ 12/02/2022</td>\n",
       "    </tr>\n",
       "    <tr>\n",
       "      <th>4</th>\n",
       "      <td>荃灣海灣花園 1 座 \\nBlock 1, Waterside Plaza, Tsuen Wan</td>\n",
       "      <td>07/02/2022 ~ 09/02/2022 \\n10/02/2022 ~ 12/02/2022</td>\n",
       "    </tr>\n",
       "    <tr>\n",
       "      <th>5</th>\n",
       "      <td>深水埗富昌邨富悅樓 \\nFu Yuet House, Fu Cheong Estate, S...</td>\n",
       "      <td>08/02/2022 ~ 09/02/2022 \\n10/02/2022 ~ 12/02/2022</td>\n",
       "    </tr>\n",
       "  </tbody>\n",
       "</table>\n",
       "<p>280 rows × 2 columns</p>\n",
       "</div>"
      ],
      "text/plain": [
       "                                   Specified_Premises  \\\n",
       "1   筲箕灣明華大廈 1 座 \\nTower 1, Ming Wah Dai Ha, Shau K...   \n",
       "2           荃灣名逸居 1 座 \\nBlock 1, New Haven, Tsuen Wan   \n",
       "3   長沙灣長沙灣邨長欣樓 \\nCheung Yan House, Cheung Sha Wan ...   \n",
       "4   大嶼山嶼南道貝澳老圍村 20C 號 \\n20C Pui O Lo Wai Tsuen, So...   \n",
       "5   香港仔香港仔中心港昌閣(G 座) \\nKong Cheong Court (Block G)...   \n",
       "..                                                ...   \n",
       "1   荃灣川龍街 66 號華景樓 \\nWah King House, 66 Chuen Lung ...   \n",
       "2     荃灣荃威花園 J 座 \\nBlock J, Allway Gardens, Tsuen Wan   \n",
       "3   荃灣海濱花園 22 座海裕閣 \\nBlock 22, Hoi Yue Mansion, Ri...   \n",
       "4    荃灣海灣花園 1 座 \\nBlock 1, Waterside Plaza, Tsuen Wan   \n",
       "5   深水埗富昌邨富悅樓 \\nFu Yuet House, Fu Cheong Estate, S...   \n",
       "\n",
       "                                     Dates_of_Testing  \n",
       "1                                          08/02/2022  \n",
       "2                                          08/02/2022  \n",
       "3                                          08/02/2022  \n",
       "4                                          08/02/2022  \n",
       "5                                          08/02/2022  \n",
       "..                                                ...  \n",
       "1   07/02/2022 ~ 09/02/2022 \\n10/02/2022 ~ 12/02/2022  \n",
       "2   07/02/2022 ~ 09/02/2022 \\n10/02/2022 ~ 12/02/2022  \n",
       "3   07/02/2022 ~ 09/02/2022 \\n10/02/2022 ~ 12/02/2022  \n",
       "4   07/02/2022 ~ 09/02/2022 \\n10/02/2022 ~ 12/02/2022  \n",
       "5   08/02/2022 ~ 09/02/2022 \\n10/02/2022 ~ 12/02/2022  \n",
       "\n",
       "[280 rows x 2 columns]"
      ]
     },
     "execution_count": 11,
     "metadata": {},
     "output_type": "execute_result"
    }
   ],
   "source": [
    "# Display header of dataframe.\n",
    "data_final_2"
   ]
  },
  {
   "cell_type": "code",
   "execution_count": 12,
   "id": "feba7ac6",
   "metadata": {},
   "outputs": [
    {
     "name": "stdout",
     "output_type": "stream",
     "text": [
      "08/02/2022\n"
     ]
    }
   ],
   "source": [
    "# Define the variable for the date string.\n",
    "today = date.today()\n",
    "today_a = today.strftime(\"%d/%m/%Y\")\n",
    "print(today_a)"
   ]
  },
  {
   "cell_type": "code",
   "execution_count": 13,
   "id": "6a256baa",
   "metadata": {},
   "outputs": [],
   "source": [
    "# Filter dataframe by the specific name of district (Tai Po) and date (today).\n",
    "data_final_Tai_Po_Today = data_final_2[(data_final_2['Specified_Premises'].str.contains(\"Tai Po\")) & \n",
    "                                        data_final_2['Dates_of_Testing'].str.contains(str(today_a))]"
   ]
  },
  {
   "cell_type": "code",
   "execution_count": 14,
   "id": "4b232b17",
   "metadata": {},
   "outputs": [
    {
     "data": {
      "text/html": [
       "<div>\n",
       "<style scoped>\n",
       "    .dataframe tbody tr th:only-of-type {\n",
       "        vertical-align: middle;\n",
       "    }\n",
       "\n",
       "    .dataframe tbody tr th {\n",
       "        vertical-align: top;\n",
       "    }\n",
       "\n",
       "    .dataframe thead th {\n",
       "        text-align: right;\n",
       "    }\n",
       "</style>\n",
       "<table border=\"1\" class=\"dataframe\">\n",
       "  <thead>\n",
       "    <tr style=\"text-align: right;\">\n",
       "      <th></th>\n",
       "      <th>Specified_Premises</th>\n",
       "      <th>Dates_of_Testing</th>\n",
       "    </tr>\n",
       "  </thead>\n",
       "  <tbody>\n",
       "    <tr>\n",
       "      <th>3</th>\n",
       "      <td>大埔海日灣 II 11 座 \\nTower 11, Centra Horizon, Tai Po</td>\n",
       "      <td>08/02/2022</td>\n",
       "    </tr>\n",
       "    <tr>\n",
       "      <th>4</th>\n",
       "      <td>大埔富善邨善景樓 \\nShin King House, Fu Shin Estate, Ta...</td>\n",
       "      <td>08/02/2022</td>\n",
       "    </tr>\n",
       "    <tr>\n",
       "      <th>12</th>\n",
       "      <td>大埔怡雅苑怡達閣 \\nYee Dat House, Yee Nga Court, Tai Po</td>\n",
       "      <td>05/02/2022 ~ 07/02/2022 \\n08/02/2022 ~ 10/02/2...</td>\n",
       "    </tr>\n",
       "    <tr>\n",
       "      <th>11</th>\n",
       "      <td>大埔安埔路 15 號怡雅苑怡厚閣 \\nYee Hau House, Yee Nga Cour...</td>\n",
       "      <td>06/02/2022 ~ 08/02/2022 \\n09/02/2022 ~ 11/02/2...</td>\n",
       "    </tr>\n",
       "    <tr>\n",
       "      <th>4</th>\n",
       "      <td>大埔太湖山莊 5 座 \\nBlock 5, Serenity Villa, Tai Po</td>\n",
       "      <td>06/02/2022 ~ 08/02/2022 \\n09/02/2022 ~ 11/02/2...</td>\n",
       "    </tr>\n",
       "    <tr>\n",
       "      <th>6</th>\n",
       "      <td>大埔太和邨麗和樓 \\nLai Wo House, Tai Wo Estate, Tai Po</td>\n",
       "      <td>06/02/2022 ~ 08/02/2022 \\n09/02/2022 ~ 11/02/2...</td>\n",
       "    </tr>\n",
       "  </tbody>\n",
       "</table>\n",
       "</div>"
      ],
      "text/plain": [
       "                                   Specified_Premises  \\\n",
       "3    大埔海日灣 II 11 座 \\nTower 11, Centra Horizon, Tai Po   \n",
       "4   大埔富善邨善景樓 \\nShin King House, Fu Shin Estate, Ta...   \n",
       "12    大埔怡雅苑怡達閣 \\nYee Dat House, Yee Nga Court, Tai Po   \n",
       "11  大埔安埔路 15 號怡雅苑怡厚閣 \\nYee Hau House, Yee Nga Cour...   \n",
       "4        大埔太湖山莊 5 座 \\nBlock 5, Serenity Villa, Tai Po   \n",
       "6      大埔太和邨麗和樓 \\nLai Wo House, Tai Wo Estate, Tai Po   \n",
       "\n",
       "                                     Dates_of_Testing  \n",
       "3                                          08/02/2022  \n",
       "4                                          08/02/2022  \n",
       "12  05/02/2022 ~ 07/02/2022 \\n08/02/2022 ~ 10/02/2...  \n",
       "11  06/02/2022 ~ 08/02/2022 \\n09/02/2022 ~ 11/02/2...  \n",
       "4   06/02/2022 ~ 08/02/2022 \\n09/02/2022 ~ 11/02/2...  \n",
       "6   06/02/2022 ~ 08/02/2022 \\n09/02/2022 ~ 11/02/2...  "
      ]
     },
     "execution_count": 14,
     "metadata": {},
     "output_type": "execute_result"
    }
   ],
   "source": [
    "# Display header of dataframe.\n",
    "data_final_Tai_Po_Today"
   ]
  },
  {
   "cell_type": "code",
   "execution_count": 15,
   "id": "8f77b286",
   "metadata": {},
   "outputs": [],
   "source": [
    "# Filter dataframe by the specific name of district (Tsuen Wan) and date (today).\n",
    "data_final_Tsuen_Wan_Today = data_final_2[(data_final_2['Specified_Premises'].str.contains(\"Tsuen Wan\")) & \n",
    "                                        data_final_2['Dates_of_Testing'].str.contains(str(today_a))]"
   ]
  },
  {
   "cell_type": "code",
   "execution_count": 16,
   "id": "7226e57d",
   "metadata": {},
   "outputs": [
    {
     "data": {
      "text/html": [
       "<div>\n",
       "<style scoped>\n",
       "    .dataframe tbody tr th:only-of-type {\n",
       "        vertical-align: middle;\n",
       "    }\n",
       "\n",
       "    .dataframe tbody tr th {\n",
       "        vertical-align: top;\n",
       "    }\n",
       "\n",
       "    .dataframe thead th {\n",
       "        text-align: right;\n",
       "    }\n",
       "</style>\n",
       "<table border=\"1\" class=\"dataframe\">\n",
       "  <thead>\n",
       "    <tr style=\"text-align: right;\">\n",
       "      <th></th>\n",
       "      <th>Specified_Premises</th>\n",
       "      <th>Dates_of_Testing</th>\n",
       "    </tr>\n",
       "  </thead>\n",
       "  <tbody>\n",
       "    <tr>\n",
       "      <th>2</th>\n",
       "      <td>荃灣名逸居 1 座 \\nBlock 1, New Haven, Tsuen Wan</td>\n",
       "      <td>08/02/2022</td>\n",
       "    </tr>\n",
       "    <tr>\n",
       "      <th>2</th>\n",
       "      <td>荃灣愉景新城 7 座 \\nBlock 7, Discovery Park, Tsuen Wan</td>\n",
       "      <td>08/02/2022</td>\n",
       "    </tr>\n",
       "    <tr>\n",
       "      <th>3</th>\n",
       "      <td>荃灣麗城花園 3 期 7 座 \\nBlock 7, Phase 3, Belvedere G...</td>\n",
       "      <td>05/02/2022 ~ 07/02/2022 \\n08/02/2022 ~ 10/02/2...</td>\n",
       "    </tr>\n",
       "    <tr>\n",
       "      <th>2</th>\n",
       "      <td>荃灣荃威花園 N 座 \\nBlock N, Allway Gardens, Tsuen Wan</td>\n",
       "      <td>05/02/2022 ~ 07/02/2022 \\n08/02/2022 ~ 10/02/2...</td>\n",
       "    </tr>\n",
       "  </tbody>\n",
       "</table>\n",
       "</div>"
      ],
      "text/plain": [
       "                                  Specified_Premises  \\\n",
       "2          荃灣名逸居 1 座 \\nBlock 1, New Haven, Tsuen Wan   \n",
       "2    荃灣愉景新城 7 座 \\nBlock 7, Discovery Park, Tsuen Wan   \n",
       "3  荃灣麗城花園 3 期 7 座 \\nBlock 7, Phase 3, Belvedere G...   \n",
       "2    荃灣荃威花園 N 座 \\nBlock N, Allway Gardens, Tsuen Wan   \n",
       "\n",
       "                                    Dates_of_Testing  \n",
       "2                                         08/02/2022  \n",
       "2                                         08/02/2022  \n",
       "3  05/02/2022 ~ 07/02/2022 \\n08/02/2022 ~ 10/02/2...  \n",
       "2  05/02/2022 ~ 07/02/2022 \\n08/02/2022 ~ 10/02/2...  "
      ]
     },
     "execution_count": 16,
     "metadata": {},
     "output_type": "execute_result"
    }
   ],
   "source": [
    "# Display header of dataframe.\n",
    "data_final_Tsuen_Wan_Today"
   ]
  }
 ],
 "metadata": {
  "kernelspec": {
   "display_name": "Python 3 (ipykernel)",
   "language": "python",
   "name": "python3"
  },
  "language_info": {
   "codemirror_mode": {
    "name": "ipython",
    "version": 3
   },
   "file_extension": ".py",
   "mimetype": "text/x-python",
   "name": "python",
   "nbconvert_exporter": "python",
   "pygments_lexer": "ipython3",
   "version": "3.9.7"
  }
 },
 "nbformat": 4,
 "nbformat_minor": 5
}
